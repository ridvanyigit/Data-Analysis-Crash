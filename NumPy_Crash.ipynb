{
  "nbformat": 4,
  "nbformat_minor": 0,
  "metadata": {
    "colab": {
      "provenance": [],
      "authorship_tag": "ABX9TyNVVL8mGefkYCpquauWehra",
      "include_colab_link": true
    },
    "kernelspec": {
      "name": "python3",
      "display_name": "Python 3"
    },
    "language_info": {
      "name": "python"
    }
  },
  "cells": [
    {
      "cell_type": "markdown",
      "metadata": {
        "id": "view-in-github",
        "colab_type": "text"
      },
      "source": [
        "<a href=\"https://colab.research.google.com/github/ridvanyigit/py-data-analysis-crash-codes/blob/main/NumPy_Crash.ipynb\" target=\"_parent\"><img src=\"https://colab.research.google.com/assets/colab-badge.svg\" alt=\"Open In Colab\"/></a>"
      ]
    },
    {
      "cell_type": "markdown",
      "source": [
        "# **P A R T - 1**"
      ],
      "metadata": {
        "id": "pfJmpPRDGP8S"
      }
    },
    {
      "cell_type": "code",
      "execution_count": 1,
      "metadata": {
        "id": "zkTDqIQo4fhl"
      },
      "outputs": [],
      "source": [
        "import pandas as pd\n",
        "import numpy as np"
      ]
    },
    {
      "cell_type": "code",
      "source": [
        "list1 = [0,1,2,3,4]"
      ],
      "metadata": {
        "id": "qY9cBY0z45j_"
      },
      "execution_count": 2,
      "outputs": []
    },
    {
      "cell_type": "code",
      "source": [
        "arr_1D= np.array(list1)\n",
        "arr_1D"
      ],
      "metadata": {
        "colab": {
          "base_uri": "https://localhost:8080/"
        },
        "id": "4x6HPrP945-J",
        "outputId": "ce06db3c-3e91-48cd-c1ac-b9f54780f567"
      },
      "execution_count": 3,
      "outputs": [
        {
          "output_type": "execute_result",
          "data": {
            "text/plain": [
              "array([0, 1, 2, 3, 4])"
            ]
          },
          "metadata": {},
          "execution_count": 3
        }
      ]
    },
    {
      "cell_type": "code",
      "source": [
        "list1.append(5)\n",
        "list1"
      ],
      "metadata": {
        "colab": {
          "base_uri": "https://localhost:8080/"
        },
        "id": "GPVte9SX46An",
        "outputId": "1d40f207-dd7b-4d9f-bf6a-11af6f85ba27"
      },
      "execution_count": 4,
      "outputs": [
        {
          "output_type": "execute_result",
          "data": {
            "text/plain": [
              "[0, 1, 2, 3, 4, 5]"
            ]
          },
          "metadata": {},
          "execution_count": 4
        }
      ]
    },
    {
      "cell_type": "code",
      "source": [
        "arr_1D + 3"
      ],
      "metadata": {
        "colab": {
          "base_uri": "https://localhost:8080/"
        },
        "id": "RuOJpzrS46DO",
        "outputId": "3e75c884-9c57-4a9b-a5e5-4854ae617018"
      },
      "execution_count": 5,
      "outputs": [
        {
          "output_type": "execute_result",
          "data": {
            "text/plain": [
              "array([3, 4, 5, 6, 7])"
            ]
          },
          "metadata": {},
          "execution_count": 5
        }
      ]
    },
    {
      "cell_type": "code",
      "source": [
        "list2 = [[0,1,2],[3,4,5],[6,7,8]]"
      ],
      "metadata": {
        "id": "5_PDsISd46KB"
      },
      "execution_count": 6,
      "outputs": []
    },
    {
      "cell_type": "code",
      "source": [
        "arr_2D = np.array(list2)\n",
        "arr_2D"
      ],
      "metadata": {
        "colab": {
          "base_uri": "https://localhost:8080/"
        },
        "id": "aaoUIgpJ46L2",
        "outputId": "d335c6b3-7212-4e96-8bdb-4954404ca5fa"
      },
      "execution_count": 7,
      "outputs": [
        {
          "output_type": "execute_result",
          "data": {
            "text/plain": [
              "array([[0, 1, 2],\n",
              "       [3, 4, 5],\n",
              "       [6, 7, 8]])"
            ]
          },
          "metadata": {},
          "execution_count": 7
        }
      ]
    },
    {
      "cell_type": "code",
      "source": [
        "arr_2D = np.array(list2, dtype='float')\n",
        "arr_2D"
      ],
      "metadata": {
        "colab": {
          "base_uri": "https://localhost:8080/"
        },
        "id": "zVjpHTmU46OJ",
        "outputId": "a8d1e5a3-9dbc-4b54-a7bd-4b87d497c092"
      },
      "execution_count": 8,
      "outputs": [
        {
          "output_type": "execute_result",
          "data": {
            "text/plain": [
              "array([[0., 1., 2.],\n",
              "       [3., 4., 5.],\n",
              "       [6., 7., 8.]])"
            ]
          },
          "metadata": {},
          "execution_count": 8
        }
      ]
    },
    {
      "cell_type": "code",
      "source": [
        "arr_2D.astype('str')"
      ],
      "metadata": {
        "colab": {
          "base_uri": "https://localhost:8080/"
        },
        "id": "yf90vSRs7FDv",
        "outputId": "eaf06089-f57d-4644-b974-5dbef52b0fcf"
      },
      "execution_count": 9,
      "outputs": [
        {
          "output_type": "execute_result",
          "data": {
            "text/plain": [
              "array([['0.0', '1.0', '2.0'],\n",
              "       ['3.0', '4.0', '5.0'],\n",
              "       ['6.0', '7.0', '8.0']], dtype='<U32')"
            ]
          },
          "metadata": {},
          "execution_count": 9
        }
      ]
    },
    {
      "cell_type": "code",
      "source": [
        "arr_2D.astype('int')"
      ],
      "metadata": {
        "colab": {
          "base_uri": "https://localhost:8080/"
        },
        "id": "LMdOavto7FF2",
        "outputId": "0ddf4f6d-8753-442f-c0bf-4ae1b6967c6e"
      },
      "execution_count": 10,
      "outputs": [
        {
          "output_type": "execute_result",
          "data": {
            "text/plain": [
              "array([[0, 1, 2],\n",
              "       [3, 4, 5],\n",
              "       [6, 7, 8]])"
            ]
          },
          "metadata": {},
          "execution_count": 10
        }
      ]
    },
    {
      "cell_type": "code",
      "source": [
        "list1.append('6')"
      ],
      "metadata": {
        "id": "1IAirixD7FIa"
      },
      "execution_count": 11,
      "outputs": []
    },
    {
      "cell_type": "code",
      "source": [
        "np2list = arr_2D.tolist()\n",
        "np2list"
      ],
      "metadata": {
        "colab": {
          "base_uri": "https://localhost:8080/"
        },
        "id": "0d349VUU7FKx",
        "outputId": "152195e4-906f-4d97-a837-698861b4e49a"
      },
      "execution_count": 12,
      "outputs": [
        {
          "output_type": "execute_result",
          "data": {
            "text/plain": [
              "[[0.0, 1.0, 2.0], [3.0, 4.0, 5.0], [6.0, 7.0, 8.0]]"
            ]
          },
          "metadata": {},
          "execution_count": 12
        }
      ]
    },
    {
      "cell_type": "code",
      "source": [
        "arr_2D.tostring()"
      ],
      "metadata": {
        "colab": {
          "base_uri": "https://localhost:8080/"
        },
        "id": "XvkGV1vu7FMm",
        "outputId": "dd969217-a052-4d85-d7fb-55ee38937242"
      },
      "execution_count": 13,
      "outputs": [
        {
          "output_type": "stream",
          "name": "stderr",
          "text": [
            "<ipython-input-13-4798ef000470>:1: DeprecationWarning: tostring() is deprecated. Use tobytes() instead.\n",
            "  arr_2D.tostring()\n"
          ]
        },
        {
          "output_type": "execute_result",
          "data": {
            "text/plain": [
              "b'\\x00\\x00\\x00\\x00\\x00\\x00\\x00\\x00\\x00\\x00\\x00\\x00\\x00\\x00\\xf0?\\x00\\x00\\x00\\x00\\x00\\x00\\x00@\\x00\\x00\\x00\\x00\\x00\\x00\\x08@\\x00\\x00\\x00\\x00\\x00\\x00\\x10@\\x00\\x00\\x00\\x00\\x00\\x00\\x14@\\x00\\x00\\x00\\x00\\x00\\x00\\x18@\\x00\\x00\\x00\\x00\\x00\\x00\\x1c@\\x00\\x00\\x00\\x00\\x00\\x00 @'"
            ]
          },
          "metadata": {},
          "execution_count": 13
        }
      ]
    },
    {
      "cell_type": "code",
      "source": [
        "arr_2D.tobytes()"
      ],
      "metadata": {
        "colab": {
          "base_uri": "https://localhost:8080/"
        },
        "id": "K8kI3lH946SV",
        "outputId": "9a7dbc84-dde5-4b6a-9a8d-26de462a12cc"
      },
      "execution_count": 14,
      "outputs": [
        {
          "output_type": "execute_result",
          "data": {
            "text/plain": [
              "b'\\x00\\x00\\x00\\x00\\x00\\x00\\x00\\x00\\x00\\x00\\x00\\x00\\x00\\x00\\xf0?\\x00\\x00\\x00\\x00\\x00\\x00\\x00@\\x00\\x00\\x00\\x00\\x00\\x00\\x08@\\x00\\x00\\x00\\x00\\x00\\x00\\x10@\\x00\\x00\\x00\\x00\\x00\\x00\\x14@\\x00\\x00\\x00\\x00\\x00\\x00\\x18@\\x00\\x00\\x00\\x00\\x00\\x00\\x1c@\\x00\\x00\\x00\\x00\\x00\\x00 @'"
            ]
          },
          "metadata": {},
          "execution_count": 14
        }
      ]
    },
    {
      "cell_type": "markdown",
      "source": [
        "## dtype & shape"
      ],
      "metadata": {
        "id": "tPO47Wce8c1h"
      }
    },
    {
      "cell_type": "code",
      "source": [
        "list2"
      ],
      "metadata": {
        "colab": {
          "base_uri": "https://localhost:8080/"
        },
        "id": "_jgRy4nK46Ub",
        "outputId": "65739c45-51e9-4a9e-bffc-bc9ff6773741"
      },
      "execution_count": 15,
      "outputs": [
        {
          "output_type": "execute_result",
          "data": {
            "text/plain": [
              "[[0, 1, 2], [3, 4, 5], [6, 7, 8]]"
            ]
          },
          "metadata": {},
          "execution_count": 15
        }
      ]
    },
    {
      "cell_type": "code",
      "source": [
        "arr_2D"
      ],
      "metadata": {
        "colab": {
          "base_uri": "https://localhost:8080/"
        },
        "id": "T9DZtOl48xma",
        "outputId": "60115325-3bff-496f-d8dc-feba1c5281bd"
      },
      "execution_count": 16,
      "outputs": [
        {
          "output_type": "execute_result",
          "data": {
            "text/plain": [
              "array([[0., 1., 2.],\n",
              "       [3., 4., 5.],\n",
              "       [6., 7., 8.]])"
            ]
          },
          "metadata": {},
          "execution_count": 16
        }
      ]
    },
    {
      "cell_type": "code",
      "source": [
        "arr_1D"
      ],
      "metadata": {
        "colab": {
          "base_uri": "https://localhost:8080/"
        },
        "id": "hO-Weagn9mOd",
        "outputId": "41cfd360-7d07-45e9-cb27-fd8b22cb3202"
      },
      "execution_count": 17,
      "outputs": [
        {
          "output_type": "execute_result",
          "data": {
            "text/plain": [
              "array([0, 1, 2, 3, 4])"
            ]
          },
          "metadata": {},
          "execution_count": 17
        }
      ]
    },
    {
      "cell_type": "code",
      "source": [
        "arr_2D.astype('float')"
      ],
      "metadata": {
        "colab": {
          "base_uri": "https://localhost:8080/"
        },
        "id": "eKvHyhVO8xkl",
        "outputId": "62682c11-d2e2-4522-8a8b-c3c488607073"
      },
      "execution_count": 18,
      "outputs": [
        {
          "output_type": "execute_result",
          "data": {
            "text/plain": [
              "array([[0., 1., 2.],\n",
              "       [3., 4., 5.],\n",
              "       [6., 7., 8.]])"
            ]
          },
          "metadata": {},
          "execution_count": 18
        }
      ]
    },
    {
      "cell_type": "code",
      "source": [
        "print('Shape:', arr_2D.shape)"
      ],
      "metadata": {
        "colab": {
          "base_uri": "https://localhost:8080/"
        },
        "id": "aM0yyWlX8xif",
        "outputId": "403dd30c-28a9-4d07-d131-38e5c2a33ff7"
      },
      "execution_count": 19,
      "outputs": [
        {
          "output_type": "stream",
          "name": "stdout",
          "text": [
            "Shape: (3, 3)\n"
          ]
        }
      ]
    },
    {
      "cell_type": "code",
      "source": [
        "arr_2D.dtype"
      ],
      "metadata": {
        "colab": {
          "base_uri": "https://localhost:8080/"
        },
        "id": "Syto88h08xgb",
        "outputId": "6c4b9503-a27e-4306-9862-f4dfd4c2a4b6"
      },
      "execution_count": 20,
      "outputs": [
        {
          "output_type": "execute_result",
          "data": {
            "text/plain": [
              "dtype('float64')"
            ]
          },
          "metadata": {},
          "execution_count": 20
        }
      ]
    },
    {
      "cell_type": "code",
      "source": [
        "arr_2D.size"
      ],
      "metadata": {
        "colab": {
          "base_uri": "https://localhost:8080/"
        },
        "id": "NYOWvIFL9Zdv",
        "outputId": "50682e2c-cabf-4308-b49f-cfbf4e388ece"
      },
      "execution_count": 21,
      "outputs": [
        {
          "output_type": "execute_result",
          "data": {
            "text/plain": [
              "9"
            ]
          },
          "metadata": {},
          "execution_count": 21
        }
      ]
    },
    {
      "cell_type": "code",
      "source": [
        "arr_1D.size"
      ],
      "metadata": {
        "colab": {
          "base_uri": "https://localhost:8080/"
        },
        "id": "LvI03Joy9qF1",
        "outputId": "29e7ab22-c813-47d1-d43e-c947149dcdce"
      },
      "execution_count": 22,
      "outputs": [
        {
          "output_type": "execute_result",
          "data": {
            "text/plain": [
              "5"
            ]
          },
          "metadata": {},
          "execution_count": 22
        }
      ]
    },
    {
      "cell_type": "code",
      "source": [
        "arr_2D.ndim"
      ],
      "metadata": {
        "colab": {
          "base_uri": "https://localhost:8080/"
        },
        "id": "AZJJUcJ59Zb7",
        "outputId": "d7fa9eb9-8794-40e2-a92b-edb640258d8e"
      },
      "execution_count": 23,
      "outputs": [
        {
          "output_type": "execute_result",
          "data": {
            "text/plain": [
              "2"
            ]
          },
          "metadata": {},
          "execution_count": 23
        }
      ]
    },
    {
      "cell_type": "code",
      "source": [
        "arr_1D.ndim"
      ],
      "metadata": {
        "colab": {
          "base_uri": "https://localhost:8080/"
        },
        "id": "YXwJ1K8N9ZZk",
        "outputId": "bf329487-6f3c-4420-8318-ae482acb7383"
      },
      "execution_count": 24,
      "outputs": [
        {
          "output_type": "execute_result",
          "data": {
            "text/plain": [
              "1"
            ]
          },
          "metadata": {},
          "execution_count": 24
        }
      ]
    },
    {
      "cell_type": "code",
      "source": [
        "arr_1D = arr_1D + 4\n",
        "arr_1D"
      ],
      "metadata": {
        "colab": {
          "base_uri": "https://localhost:8080/"
        },
        "id": "6TIiLj9U9ZXf",
        "outputId": "b5edc9fe-025d-46b6-a748-2709fb17fa46"
      },
      "execution_count": 25,
      "outputs": [
        {
          "output_type": "execute_result",
          "data": {
            "text/plain": [
              "array([4, 5, 6, 7, 8])"
            ]
          },
          "metadata": {},
          "execution_count": 25
        }
      ]
    },
    {
      "cell_type": "code",
      "source": [
        "arr_1D[0]"
      ],
      "metadata": {
        "colab": {
          "base_uri": "https://localhost:8080/"
        },
        "id": "_WIN_3-p9ZVK",
        "outputId": "8a1fc7dd-d8f8-4bd8-c3c1-7b048d2a81b1"
      },
      "execution_count": 26,
      "outputs": [
        {
          "output_type": "execute_result",
          "data": {
            "text/plain": [
              "4"
            ]
          },
          "metadata": {},
          "execution_count": 26
        }
      ]
    },
    {
      "cell_type": "code",
      "source": [
        "arr_2D[1]"
      ],
      "metadata": {
        "colab": {
          "base_uri": "https://localhost:8080/"
        },
        "id": "qdrMHI5c9ZTU",
        "outputId": "3a33cd2a-9f84-4770-a958-336815be4e2c"
      },
      "execution_count": 27,
      "outputs": [
        {
          "output_type": "execute_result",
          "data": {
            "text/plain": [
              "array([3., 4., 5.])"
            ]
          },
          "metadata": {},
          "execution_count": 27
        }
      ]
    },
    {
      "cell_type": "code",
      "source": [
        "arr_2D[1][0]"
      ],
      "metadata": {
        "colab": {
          "base_uri": "https://localhost:8080/"
        },
        "id": "ZN4Nu28w9ZRO",
        "outputId": "fa00a357-840b-47f6-c924-214b5e773add"
      },
      "execution_count": 28,
      "outputs": [
        {
          "output_type": "execute_result",
          "data": {
            "text/plain": [
              "3.0"
            ]
          },
          "metadata": {},
          "execution_count": 28
        }
      ]
    },
    {
      "cell_type": "code",
      "source": [
        "boolar = arr_2D < 5\n",
        "boolar"
      ],
      "metadata": {
        "colab": {
          "base_uri": "https://localhost:8080/"
        },
        "id": "Q-Hg57v19ZPN",
        "outputId": "b6de1283-9698-4d78-faf1-06dd52300b21"
      },
      "execution_count": 29,
      "outputs": [
        {
          "output_type": "execute_result",
          "data": {
            "text/plain": [
              "array([[ True,  True,  True],\n",
              "       [ True,  True, False],\n",
              "       [False, False, False]])"
            ]
          },
          "metadata": {},
          "execution_count": 29
        }
      ]
    },
    {
      "cell_type": "code",
      "source": [
        "arr_2D[boolar]"
      ],
      "metadata": {
        "colab": {
          "base_uri": "https://localhost:8080/"
        },
        "id": "swKkllqc8xeV",
        "outputId": "03a7a441-a5b8-4c2f-b691-1e2f95188741"
      },
      "execution_count": 30,
      "outputs": [
        {
          "output_type": "execute_result",
          "data": {
            "text/plain": [
              "array([0., 1., 2., 3., 4.])"
            ]
          },
          "metadata": {},
          "execution_count": 30
        }
      ]
    },
    {
      "cell_type": "code",
      "source": [
        "arr_2D"
      ],
      "metadata": {
        "colab": {
          "base_uri": "https://localhost:8080/"
        },
        "id": "0ObwhT1b8xaD",
        "outputId": "c5f3cb21-c4e0-4136-9b4c-1326f0ee4c52"
      },
      "execution_count": 31,
      "outputs": [
        {
          "output_type": "execute_result",
          "data": {
            "text/plain": [
              "array([[0., 1., 2.],\n",
              "       [3., 4., 5.],\n",
              "       [6., 7., 8.]])"
            ]
          },
          "metadata": {},
          "execution_count": 31
        }
      ]
    },
    {
      "cell_type": "code",
      "source": [
        "arr_2D[::-1]"
      ],
      "metadata": {
        "colab": {
          "base_uri": "https://localhost:8080/"
        },
        "id": "_JvrOAI-ANJ3",
        "outputId": "8bbcd6f7-b509-4a55-bf60-ded55053d1c0"
      },
      "execution_count": 32,
      "outputs": [
        {
          "output_type": "execute_result",
          "data": {
            "text/plain": [
              "array([[6., 7., 8.],\n",
              "       [3., 4., 5.],\n",
              "       [0., 1., 2.]])"
            ]
          },
          "metadata": {},
          "execution_count": 32
        }
      ]
    },
    {
      "cell_type": "code",
      "source": [
        "arr_2D[::-1, ::-1]"
      ],
      "metadata": {
        "colab": {
          "base_uri": "https://localhost:8080/"
        },
        "id": "_UcMvbhzANEa",
        "outputId": "dc4e9f08-dc3a-4f51-dea4-efb5a1d47e62"
      },
      "execution_count": 33,
      "outputs": [
        {
          "output_type": "execute_result",
          "data": {
            "text/plain": [
              "array([[8., 7., 6.],\n",
              "       [5., 4., 3.],\n",
              "       [2., 1., 0.]])"
            ]
          },
          "metadata": {},
          "execution_count": 33
        }
      ]
    },
    {
      "cell_type": "markdown",
      "source": [
        "## np.nan & np.inf"
      ],
      "metadata": {
        "id": "j9BK4vIOA2Ds"
      }
    },
    {
      "cell_type": "code",
      "source": [
        "np.nan"
      ],
      "metadata": {
        "colab": {
          "base_uri": "https://localhost:8080/"
        },
        "id": "1l6-zRmMANCF",
        "outputId": "5e197371-0d58-426d-d01a-d0d874477873"
      },
      "execution_count": 34,
      "outputs": [
        {
          "output_type": "execute_result",
          "data": {
            "text/plain": [
              "nan"
            ]
          },
          "metadata": {},
          "execution_count": 34
        }
      ]
    },
    {
      "cell_type": "code",
      "source": [
        "np.inf"
      ],
      "metadata": {
        "colab": {
          "base_uri": "https://localhost:8080/"
        },
        "id": "FyKVZyhoANAO",
        "outputId": "bf742835-e601-47ac-ae61-e962d871fb95"
      },
      "execution_count": 35,
      "outputs": [
        {
          "output_type": "execute_result",
          "data": {
            "text/plain": [
              "inf"
            ]
          },
          "metadata": {},
          "execution_count": 35
        }
      ]
    },
    {
      "cell_type": "code",
      "source": [
        "arr_2D"
      ],
      "metadata": {
        "colab": {
          "base_uri": "https://localhost:8080/"
        },
        "id": "h-ZMEfn9AM94",
        "outputId": "6a409d97-1ed0-4782-c030-afa2f90081af"
      },
      "execution_count": 36,
      "outputs": [
        {
          "output_type": "execute_result",
          "data": {
            "text/plain": [
              "array([[0., 1., 2.],\n",
              "       [3., 4., 5.],\n",
              "       [6., 7., 8.]])"
            ]
          },
          "metadata": {},
          "execution_count": 36
        }
      ]
    },
    {
      "cell_type": "code",
      "source": [
        "arr_2D[0][0] = np.nan\n",
        "arr_2D[0][1] = np.inf\n",
        "arr_2D"
      ],
      "metadata": {
        "colab": {
          "base_uri": "https://localhost:8080/"
        },
        "id": "JXVxMYH5AM6O",
        "outputId": "e542b664-1292-47a9-f01e-99b2beab52f8"
      },
      "execution_count": 37,
      "outputs": [
        {
          "output_type": "execute_result",
          "data": {
            "text/plain": [
              "array([[nan, inf,  2.],\n",
              "       [ 3.,  4.,  5.],\n",
              "       [ 6.,  7.,  8.]])"
            ]
          },
          "metadata": {},
          "execution_count": 37
        }
      ]
    },
    {
      "cell_type": "code",
      "source": [
        "np.isnan(arr_2D)"
      ],
      "metadata": {
        "colab": {
          "base_uri": "https://localhost:8080/"
        },
        "id": "pkFVUpPJAM39",
        "outputId": "451ea7f9-1a3e-465a-8b33-7a83e8082a3e"
      },
      "execution_count": 38,
      "outputs": [
        {
          "output_type": "execute_result",
          "data": {
            "text/plain": [
              "array([[ True, False, False],\n",
              "       [False, False, False],\n",
              "       [False, False, False]])"
            ]
          },
          "metadata": {},
          "execution_count": 38
        }
      ]
    },
    {
      "cell_type": "code",
      "source": [
        "np.isinf(arr_2D)"
      ],
      "metadata": {
        "colab": {
          "base_uri": "https://localhost:8080/"
        },
        "id": "EVlnVxBn46Ww",
        "outputId": "61c63535-40bd-4d6f-ee15-84a7b24a9431"
      },
      "execution_count": 39,
      "outputs": [
        {
          "output_type": "execute_result",
          "data": {
            "text/plain": [
              "array([[False,  True, False],\n",
              "       [False, False, False],\n",
              "       [False, False, False]])"
            ]
          },
          "metadata": {},
          "execution_count": 39
        }
      ]
    },
    {
      "cell_type": "code",
      "source": [
        "missing_flag = np.isnan(arr_2D) | np.isinf(arr_2D)\n",
        "missing_flag"
      ],
      "metadata": {
        "colab": {
          "base_uri": "https://localhost:8080/"
        },
        "id": "RCEQtZ4246Y3",
        "outputId": "57771798-0b1e-422f-d711-125de89de43a"
      },
      "execution_count": 40,
      "outputs": [
        {
          "output_type": "execute_result",
          "data": {
            "text/plain": [
              "array([[ True,  True, False],\n",
              "       [False, False, False],\n",
              "       [False, False, False]])"
            ]
          },
          "metadata": {},
          "execution_count": 40
        }
      ]
    },
    {
      "cell_type": "code",
      "source": [
        "# Replace 'np.inf' and 'np.nan' with '0'\n",
        "arr_2D[missing_flag]"
      ],
      "metadata": {
        "colab": {
          "base_uri": "https://localhost:8080/"
        },
        "id": "TXf1FBUMCFi4",
        "outputId": "a6019ba0-13ce-4571-8888-df69cb5183da"
      },
      "execution_count": 41,
      "outputs": [
        {
          "output_type": "execute_result",
          "data": {
            "text/plain": [
              "array([nan, inf])"
            ]
          },
          "metadata": {},
          "execution_count": 41
        }
      ]
    },
    {
      "cell_type": "code",
      "source": [
        "arr_2D[missing_flag] = 0\n",
        "arr_2D"
      ],
      "metadata": {
        "colab": {
          "base_uri": "https://localhost:8080/"
        },
        "id": "jhUtKjm7CFhF",
        "outputId": "62ea65c2-8cb6-42d5-d5e9-8b3c4583c6fa"
      },
      "execution_count": 42,
      "outputs": [
        {
          "output_type": "execute_result",
          "data": {
            "text/plain": [
              "array([[0., 0., 2.],\n",
              "       [3., 4., 5.],\n",
              "       [6., 7., 8.]])"
            ]
          },
          "metadata": {},
          "execution_count": 42
        }
      ]
    },
    {
      "cell_type": "markdown",
      "source": [
        "## Statistical Operation\n",
        "\n",
        "*   mean\n",
        "*   std\n",
        "*   var"
      ],
      "metadata": {
        "id": "BaePW9ZGC_nV"
      }
    },
    {
      "cell_type": "code",
      "source": [
        "arr_2D.mean()"
      ],
      "metadata": {
        "colab": {
          "base_uri": "https://localhost:8080/"
        },
        "id": "arlq6twoDDdw",
        "outputId": "80efe094-5dfb-4850-cadc-ac79e989b5d8"
      },
      "execution_count": 43,
      "outputs": [
        {
          "output_type": "execute_result",
          "data": {
            "text/plain": [
              "3.888888888888889"
            ]
          },
          "metadata": {},
          "execution_count": 43
        }
      ]
    },
    {
      "cell_type": "code",
      "source": [
        "arr_2D.std()"
      ],
      "metadata": {
        "colab": {
          "base_uri": "https://localhost:8080/"
        },
        "id": "-awQMuogDDaB",
        "outputId": "c5eba3e1-1592-4bb6-9f6f-36953aee26bb"
      },
      "execution_count": 44,
      "outputs": [
        {
          "output_type": "execute_result",
          "data": {
            "text/plain": [
              "2.7261875880856214"
            ]
          },
          "metadata": {},
          "execution_count": 44
        }
      ]
    },
    {
      "cell_type": "code",
      "source": [
        "arr_2D.var()"
      ],
      "metadata": {
        "colab": {
          "base_uri": "https://localhost:8080/"
        },
        "id": "b-Zi0OKNDDYN",
        "outputId": "bb17b4c9-1427-492d-de84-8f2e43241164"
      },
      "execution_count": 45,
      "outputs": [
        {
          "output_type": "execute_result",
          "data": {
            "text/plain": [
              "7.432098765432098"
            ]
          },
          "metadata": {},
          "execution_count": 45
        }
      ]
    },
    {
      "cell_type": "code",
      "source": [
        "arr_2D.min()"
      ],
      "metadata": {
        "colab": {
          "base_uri": "https://localhost:8080/"
        },
        "id": "-dtA2AjCDDVr",
        "outputId": "c81df0dd-0981-43ab-9370-9145cc21713c"
      },
      "execution_count": 46,
      "outputs": [
        {
          "output_type": "execute_result",
          "data": {
            "text/plain": [
              "0.0"
            ]
          },
          "metadata": {},
          "execution_count": 46
        }
      ]
    },
    {
      "cell_type": "code",
      "source": [
        "arr_2D.max()"
      ],
      "metadata": {
        "colab": {
          "base_uri": "https://localhost:8080/"
        },
        "id": "7dVXdd8mCFfO",
        "outputId": "d84ecdca-e5a0-48d2-d7e7-c3d50762e7f5"
      },
      "execution_count": 47,
      "outputs": [
        {
          "output_type": "execute_result",
          "data": {
            "text/plain": [
              "8.0"
            ]
          },
          "metadata": {},
          "execution_count": 47
        }
      ]
    },
    {
      "cell_type": "code",
      "source": [
        "arr_2D.squeeze()"
      ],
      "metadata": {
        "colab": {
          "base_uri": "https://localhost:8080/"
        },
        "id": "h2l5u1aFDEm_",
        "outputId": "a531bb4f-ffcc-41fc-8ebf-d09106fd1bb5"
      },
      "execution_count": 48,
      "outputs": [
        {
          "output_type": "execute_result",
          "data": {
            "text/plain": [
              "array([[0., 0., 2.],\n",
              "       [3., 4., 5.],\n",
              "       [6., 7., 8.]])"
            ]
          },
          "metadata": {},
          "execution_count": 48
        }
      ]
    },
    {
      "cell_type": "code",
      "source": [
        "arr_2D.cumsum()"
      ],
      "metadata": {
        "colab": {
          "base_uri": "https://localhost:8080/"
        },
        "id": "iXt9ZzK-DEez",
        "outputId": "66ed0174-5433-4e97-c264-a05525092a93"
      },
      "execution_count": 49,
      "outputs": [
        {
          "output_type": "execute_result",
          "data": {
            "text/plain": [
              "array([ 0.,  0.,  2.,  5.,  9., 14., 20., 27., 35.])"
            ]
          },
          "metadata": {},
          "execution_count": 49
        }
      ]
    },
    {
      "cell_type": "code",
      "source": [
        "arr = arr_2D[:2, :2]\n",
        "arr"
      ],
      "metadata": {
        "colab": {
          "base_uri": "https://localhost:8080/"
        },
        "id": "gNUInZwfDEcu",
        "outputId": "e247b028-a985-4a1f-f316-bd6418c42b22"
      },
      "execution_count": 50,
      "outputs": [
        {
          "output_type": "execute_result",
          "data": {
            "text/plain": [
              "array([[0., 0.],\n",
              "       [3., 4.]])"
            ]
          },
          "metadata": {},
          "execution_count": 50
        }
      ]
    },
    {
      "cell_type": "code",
      "source": [
        "arr_2D[1:3, 1:3]"
      ],
      "metadata": {
        "colab": {
          "base_uri": "https://localhost:8080/"
        },
        "id": "_R-F2vPfELZ6",
        "outputId": "2b7473b6-366e-4988-a684-165f4aac55fa"
      },
      "execution_count": 51,
      "outputs": [
        {
          "output_type": "execute_result",
          "data": {
            "text/plain": [
              "array([[4., 5.],\n",
              "       [7., 8.]])"
            ]
          },
          "metadata": {},
          "execution_count": 51
        }
      ]
    },
    {
      "cell_type": "code",
      "source": [
        "arr_2D.reshape(1,9)"
      ],
      "metadata": {
        "colab": {
          "base_uri": "https://localhost:8080/"
        },
        "id": "3N7IDnTGELUs",
        "outputId": "a72212f4-d592-4904-dfe6-4d03a899a014"
      },
      "execution_count": 52,
      "outputs": [
        {
          "output_type": "execute_result",
          "data": {
            "text/plain": [
              "array([[0., 0., 2., 3., 4., 5., 6., 7., 8.]])"
            ]
          },
          "metadata": {},
          "execution_count": 52
        }
      ]
    },
    {
      "cell_type": "code",
      "source": [
        "arr_2D.reshape(9,1)"
      ],
      "metadata": {
        "colab": {
          "base_uri": "https://localhost:8080/"
        },
        "id": "5eGfEkS7ELRZ",
        "outputId": "f082ad24-2b6e-4d03-c386-8d85f579b1ef"
      },
      "execution_count": 53,
      "outputs": [
        {
          "output_type": "execute_result",
          "data": {
            "text/plain": [
              "array([[0.],\n",
              "       [0.],\n",
              "       [2.],\n",
              "       [3.],\n",
              "       [4.],\n",
              "       [5.],\n",
              "       [6.],\n",
              "       [7.],\n",
              "       [8.]])"
            ]
          },
          "metadata": {},
          "execution_count": 53
        }
      ]
    },
    {
      "cell_type": "code",
      "source": [
        "a = arr_2D.reshape(1,9)\n",
        "a"
      ],
      "metadata": {
        "colab": {
          "base_uri": "https://localhost:8080/"
        },
        "id": "YgKiNaPuFE31",
        "outputId": "bd5475f6-68ba-47d7-c97f-b057c5533005"
      },
      "execution_count": 54,
      "outputs": [
        {
          "output_type": "execute_result",
          "data": {
            "text/plain": [
              "array([[0., 0., 2., 3., 4., 5., 6., 7., 8.]])"
            ]
          },
          "metadata": {},
          "execution_count": 54
        }
      ]
    },
    {
      "cell_type": "code",
      "source": [
        "a.ndim"
      ],
      "metadata": {
        "colab": {
          "base_uri": "https://localhost:8080/"
        },
        "id": "Mf9cHAtJFNdk",
        "outputId": "2cff4409-b1a1-4e4c-cf7e-d7b5f0af0ce0"
      },
      "execution_count": 55,
      "outputs": [
        {
          "output_type": "execute_result",
          "data": {
            "text/plain": [
              "2"
            ]
          },
          "metadata": {},
          "execution_count": 55
        }
      ]
    },
    {
      "cell_type": "code",
      "source": [
        "b = arr_2D.flatten()\n",
        "b #copy"
      ],
      "metadata": {
        "colab": {
          "base_uri": "https://localhost:8080/"
        },
        "id": "upVaf8g6Ez2v",
        "outputId": "b2262dcf-ec06-4123-f432-4df67899e09f"
      },
      "execution_count": 56,
      "outputs": [
        {
          "output_type": "execute_result",
          "data": {
            "text/plain": [
              "array([0., 0., 2., 3., 4., 5., 6., 7., 8.])"
            ]
          },
          "metadata": {},
          "execution_count": 56
        }
      ]
    },
    {
      "cell_type": "code",
      "source": [
        "b.ndim"
      ],
      "metadata": {
        "colab": {
          "base_uri": "https://localhost:8080/"
        },
        "id": "aERoF0FkEz0Y",
        "outputId": "75e71edb-356a-4e77-eb46-aff35eeed812"
      },
      "execution_count": 57,
      "outputs": [
        {
          "output_type": "execute_result",
          "data": {
            "text/plain": [
              "1"
            ]
          },
          "metadata": {},
          "execution_count": 57
        }
      ]
    },
    {
      "cell_type": "code",
      "source": [
        "c = arr_2D.ravel()\n",
        "c #reference"
      ],
      "metadata": {
        "colab": {
          "base_uri": "https://localhost:8080/"
        },
        "id": "0G_fRll1Ezxl",
        "outputId": "4e41f228-886c-49dd-ef18-19c793c23264"
      },
      "execution_count": 58,
      "outputs": [
        {
          "output_type": "execute_result",
          "data": {
            "text/plain": [
              "array([0., 0., 2., 3., 4., 5., 6., 7., 8.])"
            ]
          },
          "metadata": {},
          "execution_count": 58
        }
      ]
    },
    {
      "cell_type": "code",
      "source": [
        "c.ndim"
      ],
      "metadata": {
        "colab": {
          "base_uri": "https://localhost:8080/"
        },
        "id": "U9nwKqOrEzuf",
        "outputId": "da866411-c6bc-4c79-ca7c-bd9b6e949ba5"
      },
      "execution_count": 59,
      "outputs": [
        {
          "output_type": "execute_result",
          "data": {
            "text/plain": [
              "1"
            ]
          },
          "metadata": {},
          "execution_count": 59
        }
      ]
    },
    {
      "cell_type": "markdown",
      "source": [
        "## sequence, repetitions, and random numbers"
      ],
      "metadata": {
        "id": "Nm7jNMhOGGW2"
      }
    },
    {
      "cell_type": "code",
      "source": [
        "np.arange(1,5, dtype='int')"
      ],
      "metadata": {
        "colab": {
          "base_uri": "https://localhost:8080/"
        },
        "id": "fGegHNpFDEaW",
        "outputId": "1e4f6e0c-8503-4e01-eaa1-e0cf1459e08c"
      },
      "execution_count": 60,
      "outputs": [
        {
          "output_type": "execute_result",
          "data": {
            "text/plain": [
              "array([1, 2, 3, 4])"
            ]
          },
          "metadata": {},
          "execution_count": 60
        }
      ]
    },
    {
      "cell_type": "code",
      "source": [
        "np.arange(1,50,2)"
      ],
      "metadata": {
        "colab": {
          "base_uri": "https://localhost:8080/"
        },
        "id": "r78EEE6EDEX3",
        "outputId": "627c16bb-d93c-44ed-aa2e-43cd8e3dfb03"
      },
      "execution_count": 61,
      "outputs": [
        {
          "output_type": "execute_result",
          "data": {
            "text/plain": [
              "array([ 1,  3,  5,  7,  9, 11, 13, 15, 17, 19, 21, 23, 25, 27, 29, 31, 33,\n",
              "       35, 37, 39, 41, 43, 45, 47, 49])"
            ]
          },
          "metadata": {},
          "execution_count": 61
        }
      ]
    },
    {
      "cell_type": "code",
      "source": [
        "np.linspace(1,50,21)"
      ],
      "metadata": {
        "colab": {
          "base_uri": "https://localhost:8080/"
        },
        "id": "tNtQOBWmDEQH",
        "outputId": "71fe1686-a91e-4931-ac3d-09a404f7dafc"
      },
      "execution_count": 62,
      "outputs": [
        {
          "output_type": "execute_result",
          "data": {
            "text/plain": [
              "array([ 1.  ,  3.45,  5.9 ,  8.35, 10.8 , 13.25, 15.7 , 18.15, 20.6 ,\n",
              "       23.05, 25.5 , 27.95, 30.4 , 32.85, 35.3 , 37.75, 40.2 , 42.65,\n",
              "       45.1 , 47.55, 50.  ])"
            ]
          },
          "metadata": {},
          "execution_count": 62
        }
      ]
    },
    {
      "cell_type": "code",
      "source": [
        "np.logspace(1,50,10)"
      ],
      "metadata": {
        "colab": {
          "base_uri": "https://localhost:8080/"
        },
        "id": "M-HnMXuHCFdK",
        "outputId": "942d9474-4a87-4611-ddd3-ccdd32f2fd50"
      },
      "execution_count": 63,
      "outputs": [
        {
          "output_type": "execute_result",
          "data": {
            "text/plain": [
              "array([1.00000000e+01, 2.78255940e+06, 7.74263683e+11, 2.15443469e+17,\n",
              "       5.99484250e+22, 1.66810054e+28, 4.64158883e+33, 1.29154967e+39,\n",
              "       3.59381366e+44, 1.00000000e+50])"
            ]
          },
          "metadata": {},
          "execution_count": 63
        }
      ]
    },
    {
      "cell_type": "code",
      "source": [
        "np.zeros([2,4])"
      ],
      "metadata": {
        "colab": {
          "base_uri": "https://localhost:8080/"
        },
        "id": "IqW5lzBVCFZT",
        "outputId": "3886bc55-c559-4141-eb92-d5b7231fde76"
      },
      "execution_count": 64,
      "outputs": [
        {
          "output_type": "execute_result",
          "data": {
            "text/plain": [
              "array([[0., 0., 0., 0.],\n",
              "       [0., 0., 0., 0.]])"
            ]
          },
          "metadata": {},
          "execution_count": 64
        }
      ]
    },
    {
      "cell_type": "code",
      "source": [
        "np.ones([2,4])"
      ],
      "metadata": {
        "colab": {
          "base_uri": "https://localhost:8080/"
        },
        "id": "xkTt8VkoGTgs",
        "outputId": "0acb9f76-a38a-4b4a-c565-3b7360d66f97"
      },
      "execution_count": 65,
      "outputs": [
        {
          "output_type": "execute_result",
          "data": {
            "text/plain": [
              "array([[1., 1., 1., 1.],\n",
              "       [1., 1., 1., 1.]])"
            ]
          },
          "metadata": {},
          "execution_count": 65
        }
      ]
    },
    {
      "cell_type": "code",
      "source": [
        "a = [1,2,3]\n",
        "np.repeat(a,3)"
      ],
      "metadata": {
        "colab": {
          "base_uri": "https://localhost:8080/"
        },
        "id": "AtUrSBZDGTe1",
        "outputId": "86506aa8-8ee3-409b-cccd-a4ab5f41c527"
      },
      "execution_count": 66,
      "outputs": [
        {
          "output_type": "execute_result",
          "data": {
            "text/plain": [
              "array([1, 1, 1, 2, 2, 2, 3, 3, 3])"
            ]
          },
          "metadata": {},
          "execution_count": 66
        }
      ]
    },
    {
      "cell_type": "code",
      "source": [
        "np.tile(a,3)"
      ],
      "metadata": {
        "colab": {
          "base_uri": "https://localhost:8080/"
        },
        "id": "3KpUIrYFGTcv",
        "outputId": "a5c0e213-81e9-4f96-be44-702bbf0d05ad"
      },
      "execution_count": 67,
      "outputs": [
        {
          "output_type": "execute_result",
          "data": {
            "text/plain": [
              "array([1, 2, 3, 1, 2, 3, 1, 2, 3])"
            ]
          },
          "metadata": {},
          "execution_count": 67
        }
      ]
    },
    {
      "cell_type": "code",
      "source": [
        "np.random.rand(4,3)"
      ],
      "metadata": {
        "colab": {
          "base_uri": "https://localhost:8080/"
        },
        "id": "kHRR8u_HIFx8",
        "outputId": "d6cb2b95-cf46-47d1-9401-d0b85badd587"
      },
      "execution_count": 68,
      "outputs": [
        {
          "output_type": "execute_result",
          "data": {
            "text/plain": [
              "array([[0.78359722, 0.35026419, 0.28272636],\n",
              "       [0.19169173, 0.07461594, 0.0428259 ],\n",
              "       [0.5777998 , 0.16350757, 0.266823  ],\n",
              "       [0.7941063 , 0.09348692, 0.3232317 ]])"
            ]
          },
          "metadata": {},
          "execution_count": 68
        }
      ]
    },
    {
      "cell_type": "code",
      "source": [
        "np.random.randn(4,3)"
      ],
      "metadata": {
        "colab": {
          "base_uri": "https://localhost:8080/"
        },
        "id": "vZvTri-GIFvn",
        "outputId": "df884504-4260-4411-bda4-ad0114c3f774"
      },
      "execution_count": 69,
      "outputs": [
        {
          "output_type": "execute_result",
          "data": {
            "text/plain": [
              "array([[ 0.18036375, -0.07465468,  0.37447767],\n",
              "       [-0.72802177, -0.86470688, -0.33077569],\n",
              "       [ 0.49441194, -1.0173792 ,  1.01227581],\n",
              "       [-0.36837905, -0.53192593,  0.49692607]])"
            ]
          },
          "metadata": {},
          "execution_count": 69
        }
      ]
    },
    {
      "cell_type": "code",
      "source": [
        "np.random.randint(0,10)"
      ],
      "metadata": {
        "colab": {
          "base_uri": "https://localhost:8080/"
        },
        "id": "bHfOxcHjIFtc",
        "outputId": "617efc92-1522-4d5c-a149-c52ba60ebc28"
      },
      "execution_count": 70,
      "outputs": [
        {
          "output_type": "execute_result",
          "data": {
            "text/plain": [
              "9"
            ]
          },
          "metadata": {},
          "execution_count": 70
        }
      ]
    },
    {
      "cell_type": "code",
      "source": [
        "np.random.randint(0,10, [4,3])"
      ],
      "metadata": {
        "colab": {
          "base_uri": "https://localhost:8080/"
        },
        "id": "oP37zohfGTaq",
        "outputId": "ef8d659c-d345-4353-e745-0482d2dbd036"
      },
      "execution_count": 71,
      "outputs": [
        {
          "output_type": "execute_result",
          "data": {
            "text/plain": [
              "array([[9, 4, 7],\n",
              "       [7, 0, 8],\n",
              "       [5, 7, 3],\n",
              "       [4, 5, 3]])"
            ]
          },
          "metadata": {},
          "execution_count": 71
        }
      ]
    },
    {
      "cell_type": "code",
      "source": [
        "np.random.seed(0) # no random\n",
        "np.random.randint(0,10, [4,3])"
      ],
      "metadata": {
        "colab": {
          "base_uri": "https://localhost:8080/"
        },
        "id": "Hm_98pkUGTYg",
        "outputId": "ad5aa3c6-806f-4422-e801-8b9f4da3f76e"
      },
      "execution_count": 72,
      "outputs": [
        {
          "output_type": "execute_result",
          "data": {
            "text/plain": [
              "array([[5, 0, 3],\n",
              "       [3, 7, 9],\n",
              "       [3, 5, 2],\n",
              "       [4, 7, 6]])"
            ]
          },
          "metadata": {},
          "execution_count": 72
        }
      ]
    },
    {
      "cell_type": "code",
      "source": [
        "np.unique(arr_2D)"
      ],
      "metadata": {
        "colab": {
          "base_uri": "https://localhost:8080/"
        },
        "id": "R1m0SJnAJKmu",
        "outputId": "66f1c8a6-317f-4b01-dc7f-5e259090b076"
      },
      "execution_count": 73,
      "outputs": [
        {
          "output_type": "execute_result",
          "data": {
            "text/plain": [
              "array([0., 2., 3., 4., 5., 6., 7., 8.])"
            ]
          },
          "metadata": {},
          "execution_count": 73
        }
      ]
    },
    {
      "cell_type": "code",
      "source": [
        "uniqes, counts = np.unique(arr_2D, return_counts=True)\n",
        "print(uniqes)\n",
        "print(counts)"
      ],
      "metadata": {
        "colab": {
          "base_uri": "https://localhost:8080/"
        },
        "id": "5I_xqazSJKk3",
        "outputId": "af497b59-4df0-415c-a059-5e37052a0961"
      },
      "execution_count": 74,
      "outputs": [
        {
          "output_type": "stream",
          "name": "stdout",
          "text": [
            "[0. 2. 3. 4. 5. 6. 7. 8.]\n",
            "[2 1 1 1 1 1 1 1]\n"
          ]
        }
      ]
    },
    {
      "cell_type": "markdown",
      "source": [
        "# **P   A   R   T   -   2**"
      ],
      "metadata": {
        "id": "COmxTb_cGCx9"
      }
    },
    {
      "cell_type": "code",
      "source": [
        "arr = np.array([8, 94, 8, 56, 1, 3, 4, 5, 7])\n",
        "arr"
      ],
      "metadata": {
        "colab": {
          "base_uri": "https://localhost:8080/"
        },
        "id": "ifU69gfuEr2x",
        "outputId": "947fef8d-d682-4841-fe27-3a0a0cf3d9ba"
      },
      "execution_count": 76,
      "outputs": [
        {
          "output_type": "execute_result",
          "data": {
            "text/plain": [
              "array([ 8, 94,  8, 56,  1,  3,  4,  5,  7])"
            ]
          },
          "metadata": {},
          "execution_count": 76
        }
      ]
    },
    {
      "cell_type": "code",
      "source": [
        "index_gt10 = np.where(arr > 10)\n",
        "index_gt10"
      ],
      "metadata": {
        "colab": {
          "base_uri": "https://localhost:8080/"
        },
        "id": "GCOrfz_lEr0b",
        "outputId": "c0bdd7da-e9ec-4326-d990-a6dd2df06be3"
      },
      "execution_count": 77,
      "outputs": [
        {
          "output_type": "execute_result",
          "data": {
            "text/plain": [
              "(array([1, 3]),)"
            ]
          },
          "metadata": {},
          "execution_count": 77
        }
      ]
    },
    {
      "cell_type": "code",
      "source": [
        "arr[index_gt10]"
      ],
      "metadata": {
        "colab": {
          "base_uri": "https://localhost:8080/"
        },
        "id": "xFfz4pRvErwi",
        "outputId": "4854bb44-00c2-46b7-d4cf-c94c095266f8"
      },
      "execution_count": 81,
      "outputs": [
        {
          "output_type": "execute_result",
          "data": {
            "text/plain": [
              "array([94, 56])"
            ]
          },
          "metadata": {},
          "execution_count": 81
        }
      ]
    },
    {
      "cell_type": "code",
      "source": [
        "arr[arr>10]"
      ],
      "metadata": {
        "colab": {
          "base_uri": "https://localhost:8080/"
        },
        "id": "UG31RIkbEruL",
        "outputId": "fc317a57-36fc-4e9f-8b92-ffd9a97e2948"
      },
      "execution_count": 82,
      "outputs": [
        {
          "output_type": "execute_result",
          "data": {
            "text/plain": [
              "array([94, 56])"
            ]
          },
          "metadata": {},
          "execution_count": 82
        }
      ]
    },
    {
      "cell_type": "code",
      "source": [
        "arr>10"
      ],
      "metadata": {
        "colab": {
          "base_uri": "https://localhost:8080/"
        },
        "id": "y1VtX8FJErsH",
        "outputId": "515d9895-d792-42ca-9184-4229b9e13c2b"
      },
      "execution_count": 83,
      "outputs": [
        {
          "output_type": "execute_result",
          "data": {
            "text/plain": [
              "array([False,  True, False,  True, False, False, False, False, False])"
            ]
          },
          "metadata": {},
          "execution_count": 83
        }
      ]
    },
    {
      "cell_type": "code",
      "source": [
        "np.where(arr>10, 'gt10', 'lt10')"
      ],
      "metadata": {
        "colab": {
          "base_uri": "https://localhost:8080/"
        },
        "id": "zYQzEixdErqD",
        "outputId": "2331be06-809a-4510-9c4c-2b86f0ff30f2"
      },
      "execution_count": 84,
      "outputs": [
        {
          "output_type": "execute_result",
          "data": {
            "text/plain": [
              "array(['lt10', 'gt10', 'lt10', 'gt10', 'lt10', 'lt10', 'lt10', 'lt10',\n",
              "       'lt10'], dtype='<U4')"
            ]
          },
          "metadata": {},
          "execution_count": 84
        }
      ]
    },
    {
      "cell_type": "code",
      "source": [
        "arr"
      ],
      "metadata": {
        "colab": {
          "base_uri": "https://localhost:8080/"
        },
        "id": "1H3trHmtErn8",
        "outputId": "1d1378a2-5cd4-4a3a-cb5e-3f2676461915"
      },
      "execution_count": 85,
      "outputs": [
        {
          "output_type": "execute_result",
          "data": {
            "text/plain": [
              "array([ 8, 94,  8, 56,  1,  3,  4,  5,  7])"
            ]
          },
          "metadata": {},
          "execution_count": 85
        }
      ]
    },
    {
      "cell_type": "code",
      "source": [
        "arr.max()"
      ],
      "metadata": {
        "colab": {
          "base_uri": "https://localhost:8080/"
        },
        "id": "emTFT3sXErl1",
        "outputId": "e25b4aa5-86c5-4ef7-c7fd-320ac8b586b2"
      },
      "execution_count": 86,
      "outputs": [
        {
          "output_type": "execute_result",
          "data": {
            "text/plain": [
              "94"
            ]
          },
          "metadata": {},
          "execution_count": 86
        }
      ]
    },
    {
      "cell_type": "code",
      "source": [
        "arr.argmax()"
      ],
      "metadata": {
        "colab": {
          "base_uri": "https://localhost:8080/"
        },
        "id": "NDE6SvEcErjx",
        "outputId": "b33b690c-0386-4acb-d63d-cde33a55b415"
      },
      "execution_count": 87,
      "outputs": [
        {
          "output_type": "execute_result",
          "data": {
            "text/plain": [
              "1"
            ]
          },
          "metadata": {},
          "execution_count": 87
        }
      ]
    },
    {
      "cell_type": "code",
      "source": [
        "arr.argmin() #it returns index"
      ],
      "metadata": {
        "colab": {
          "base_uri": "https://localhost:8080/"
        },
        "id": "EHpob5h3HZav",
        "outputId": "88ad7b93-2b21-4f0c-aaff-d3b2e2717ba2"
      },
      "execution_count": 92,
      "outputs": [
        {
          "output_type": "execute_result",
          "data": {
            "text/plain": [
              "4"
            ]
          },
          "metadata": {},
          "execution_count": 92
        }
      ]
    },
    {
      "cell_type": "code",
      "source": [
        "arr[arr.argmin()] #it returns value"
      ],
      "metadata": {
        "colab": {
          "base_uri": "https://localhost:8080/"
        },
        "id": "UQc0mY3LErhr",
        "outputId": "967adf07-1ef6-424a-f60d-3c48b1d4bd8b"
      },
      "execution_count": 93,
      "outputs": [
        {
          "output_type": "execute_result",
          "data": {
            "text/plain": [
              "1"
            ]
          },
          "metadata": {},
          "execution_count": 93
        }
      ]
    },
    {
      "cell_type": "markdown",
      "source": [
        "## Read and Write CSV File\n",
        "\n",
        "*   np.genfromtxt() --> multiple data\n",
        "*   np.loadtxt() --> text data"
      ],
      "metadata": {
        "id": "Qx4yizAeHv1_"
      }
    },
    {
      "cell_type": "code",
      "source": [
        "# https://raw.githubusercontent.com/selva86/datasets/master/Auto.csv"
      ],
      "metadata": {
        "id": "Vm3mpgNJJiII"
      },
      "execution_count": 101,
      "outputs": []
    },
    {
      "cell_type": "code",
      "source": [
        "data = np.genfromtxt('https://raw.githubusercontent.com/selva86/datasets/master/Auto.csv',\n",
        "              skip_header= 1,\n",
        "              filling_values=-1000,\n",
        "              dtype='float',\n",
        "              delimiter=',')"
      ],
      "metadata": {
        "id": "s5tYDV8yHvf-"
      },
      "execution_count": 107,
      "outputs": []
    },
    {
      "cell_type": "code",
      "source": [
        "data.shape"
      ],
      "metadata": {
        "colab": {
          "base_uri": "https://localhost:8080/"
        },
        "id": "MUW9zy7JHvd3",
        "outputId": "74e90c07-9d3d-4a03-9ad6-ce1d0c756b7b"
      },
      "execution_count": 108,
      "outputs": [
        {
          "output_type": "execute_result",
          "data": {
            "text/plain": [
              "(392, 9)"
            ]
          },
          "metadata": {},
          "execution_count": 108
        }
      ]
    },
    {
      "cell_type": "code",
      "source": [
        "data[:3]"
      ],
      "metadata": {
        "colab": {
          "base_uri": "https://localhost:8080/"
        },
        "id": "FHe3_OTOHvbg",
        "outputId": "9835f6e4-cf58-4ed3-84a7-c44fd5a04199"
      },
      "execution_count": 109,
      "outputs": [
        {
          "output_type": "execute_result",
          "data": {
            "text/plain": [
              "array([[ 1.800e+01,  8.000e+00,  3.070e+02,  1.300e+02,  3.504e+03,\n",
              "         1.200e+01,  7.000e+01,  1.000e+00, -1.000e+03],\n",
              "       [ 1.500e+01,  8.000e+00,  3.500e+02,  1.650e+02,  3.693e+03,\n",
              "         1.150e+01,  7.000e+01,  1.000e+00, -1.000e+03],\n",
              "       [ 1.800e+01,  8.000e+00,  3.180e+02,  1.500e+02,  3.436e+03,\n",
              "         1.100e+01,  7.000e+01,  1.000e+00, -1.000e+03]])"
            ]
          },
          "metadata": {},
          "execution_count": 109
        }
      ]
    },
    {
      "cell_type": "code",
      "source": [
        "np.set_printoptions(suppress=True)\n",
        "data[:3]"
      ],
      "metadata": {
        "colab": {
          "base_uri": "https://localhost:8080/"
        },
        "id": "dK-ikWeiHvXX",
        "outputId": "d6519345-43cc-4ea7-e604-5c1ce2dcc9e6"
      },
      "execution_count": 110,
      "outputs": [
        {
          "output_type": "execute_result",
          "data": {
            "text/plain": [
              "array([[   18. ,     8. ,   307. ,   130. ,  3504. ,    12. ,    70. ,\n",
              "            1. , -1000. ],\n",
              "       [   15. ,     8. ,   350. ,   165. ,  3693. ,    11.5,    70. ,\n",
              "            1. , -1000. ],\n",
              "       [   18. ,     8. ,   318. ,   150. ,  3436. ,    11. ,    70. ,\n",
              "            1. , -1000. ]])"
            ]
          },
          "metadata": {},
          "execution_count": 110
        }
      ]
    },
    {
      "cell_type": "code",
      "source": [
        "data2 = np.genfromtxt('https://raw.githubusercontent.com/selva86/datasets/master/Auto.csv',\n",
        "              skip_header= 1,\n",
        "              dtype= None,\n",
        "              delimiter=',')"
      ],
      "metadata": {
        "colab": {
          "base_uri": "https://localhost:8080/"
        },
        "id": "FZZljkC6Llru",
        "outputId": "0b52d248-f741-4b5c-8a3f-17865d64b36f"
      },
      "execution_count": 121,
      "outputs": [
        {
          "output_type": "stream",
          "name": "stderr",
          "text": [
            "<ipython-input-121-9306164c99de>:1: VisibleDeprecationWarning: Reading unicode strings without specifying the encoding argument is deprecated. Set the encoding, use None for the system default.\n",
            "  data2 = np.genfromtxt('https://raw.githubusercontent.com/selva86/datasets/master/Auto.csv',\n"
          ]
        }
      ]
    },
    {
      "cell_type": "code",
      "source": [
        "data2[:3]"
      ],
      "metadata": {
        "colab": {
          "base_uri": "https://localhost:8080/"
        },
        "id": "N0sYzDAxLlpp",
        "outputId": "3a4f2663-1fd8-41d1-b9b8-e9f6a9becbf4"
      },
      "execution_count": 122,
      "outputs": [
        {
          "output_type": "execute_result",
          "data": {
            "text/plain": [
              "array([(18., 8, 307., 130, 3504, 12. , 70, 1, b'\"chevrolet chevelle malibu\"'),\n",
              "       (15., 8, 350., 165, 3693, 11.5, 70, 1, b'\"buick skylark 320\"'),\n",
              "       (18., 8, 318., 150, 3436, 11. , 70, 1, b'\"plymouth satellite\"')],\n",
              "      dtype=[('f0', '<f8'), ('f1', '<i8'), ('f2', '<f8'), ('f3', '<i8'), ('f4', '<i8'), ('f5', '<f8'), ('f6', '<i8'), ('f7', '<i8'), ('f8', 'S38')])"
            ]
          },
          "metadata": {},
          "execution_count": 122
        }
      ]
    },
    {
      "cell_type": "code",
      "source": [
        "np.savetxt('data.csv', data, delimiter=',') # Save the NumPy array 'data' to a CSV file named 'data.csv'.\n",
        "                                           # The 'delimiter' argument specifies that commas should be used\n",
        "                                           # to separate values in the file. This file can be opened with\n",
        "                                           # text editors or spreadsheet programs."
      ],
      "metadata": {
        "id": "spn2UfJ5Llnj"
      },
      "execution_count": 127,
      "outputs": []
    },
    {
      "cell_type": "code",
      "source": [
        "data"
      ],
      "metadata": {
        "colab": {
          "base_uri": "https://localhost:8080/"
        },
        "id": "28BAjhy6Lllv",
        "outputId": "16123f8f-1daa-45e6-e5ca-dcd85fa46b0d"
      },
      "execution_count": 128,
      "outputs": [
        {
          "output_type": "execute_result",
          "data": {
            "text/plain": [
              "array([[   18.,     8.,   307., ...,    70.,     1., -1000.],\n",
              "       [   15.,     8.,   350., ...,    70.,     1., -1000.],\n",
              "       [   18.,     8.,   318., ...,    70.,     1., -1000.],\n",
              "       ...,\n",
              "       [   32.,     4.,   135., ...,    82.,     1., -1000.],\n",
              "       [   28.,     4.,   120., ...,    82.,     1., -1000.],\n",
              "       [   31.,     4.,   119., ...,    82.,     1., -1000.]])"
            ]
          },
          "metadata": {},
          "execution_count": 128
        }
      ]
    },
    {
      "cell_type": "code",
      "source": [
        "np.save('data.npy', data) # save the array in NumPy's .npy format,\n",
        "                           # which is a binary format for storing NumPy arrays efficiently.\n",
        "                           # This file can be loaded using np.load()"
      ],
      "metadata": {
        "id": "6kuaBxwwLljh"
      },
      "execution_count": 126,
      "outputs": []
    },
    {
      "cell_type": "code",
      "source": [
        "np.savez('data2.npz', data, data2) # Save multiple arrays into a single .npz file.\n",
        "                                   # In this case, it saves 'data' and 'data2' arrays.\n",
        "                                   # This compressed file can be loaded using np.load()."
      ],
      "metadata": {
        "id": "KhmHrC6BHvVQ"
      },
      "execution_count": 129,
      "outputs": []
    },
    {
      "cell_type": "code",
      "source": [
        "d = np.load('data.npy')\n",
        "d"
      ],
      "metadata": {
        "colab": {
          "base_uri": "https://localhost:8080/"
        },
        "id": "JEUaZp5XHvTb",
        "outputId": "2f8f8c87-e223-4f28-aaf8-f2742f2e5e89"
      },
      "execution_count": 130,
      "outputs": [
        {
          "output_type": "execute_result",
          "data": {
            "text/plain": [
              "array([[   18.,     8.,   307., ...,    70.,     1., -1000.],\n",
              "       [   15.,     8.,   350., ...,    70.,     1., -1000.],\n",
              "       [   18.,     8.,   318., ...,    70.,     1., -1000.],\n",
              "       ...,\n",
              "       [   32.,     4.,   135., ...,    82.,     1., -1000.],\n",
              "       [   28.,     4.,   120., ...,    82.,     1., -1000.],\n",
              "       [   31.,     4.,   119., ...,    82.,     1., -1000.]])"
            ]
          },
          "metadata": {},
          "execution_count": 130
        }
      ]
    },
    {
      "cell_type": "code",
      "source": [
        "d2 = np.load('data2.npz')\n",
        "d2"
      ],
      "metadata": {
        "colab": {
          "base_uri": "https://localhost:8080/"
        },
        "id": "cW0F8F9sHvRX",
        "outputId": "18ba6c53-5b2f-4dd6-fee4-6c9caed39863"
      },
      "execution_count": 131,
      "outputs": [
        {
          "output_type": "execute_result",
          "data": {
            "text/plain": [
              "NpzFile 'data2.npz' with keys: arr_0, arr_1"
            ]
          },
          "metadata": {},
          "execution_count": 131
        }
      ]
    },
    {
      "cell_type": "code",
      "source": [
        "d2.files"
      ],
      "metadata": {
        "colab": {
          "base_uri": "https://localhost:8080/"
        },
        "id": "tcuMLKOJPeoQ",
        "outputId": "90ba133f-304f-4a8c-fd66-55f0b95525bd"
      },
      "execution_count": 132,
      "outputs": [
        {
          "output_type": "execute_result",
          "data": {
            "text/plain": [
              "['arr_0', 'arr_1']"
            ]
          },
          "metadata": {},
          "execution_count": 132
        }
      ]
    },
    {
      "cell_type": "code",
      "source": [
        "d2['arr_0']"
      ],
      "metadata": {
        "colab": {
          "base_uri": "https://localhost:8080/"
        },
        "id": "z0Y8ILsmPemK",
        "outputId": "3d386a00-7889-4643-bc01-df298b2df0bc"
      },
      "execution_count": 135,
      "outputs": [
        {
          "output_type": "execute_result",
          "data": {
            "text/plain": [
              "array([[   18.,     8.,   307., ...,    70.,     1., -1000.],\n",
              "       [   15.,     8.,   350., ...,    70.,     1., -1000.],\n",
              "       [   18.,     8.,   318., ...,    70.,     1., -1000.],\n",
              "       ...,\n",
              "       [   32.,     4.,   135., ...,    82.,     1., -1000.],\n",
              "       [   28.,     4.,   120., ...,    82.,     1., -1000.],\n",
              "       [   31.,     4.,   119., ...,    82.,     1., -1000.]])"
            ]
          },
          "metadata": {},
          "execution_count": 135
        }
      ]
    },
    {
      "cell_type": "code",
      "source": [
        "d2['arr_1']"
      ],
      "metadata": {
        "colab": {
          "base_uri": "https://localhost:8080/"
        },
        "id": "5WW0xPJdPekl",
        "outputId": "49636787-b53a-4992-c794-dcd0d1fd843c"
      },
      "execution_count": 138,
      "outputs": [
        {
          "output_type": "execute_result",
          "data": {
            "text/plain": [
              "array([(18. , 8, 307. , 130, 3504, 12. , 70, 1, b'\"chevrolet chevelle malibu\"'),\n",
              "       (15. , 8, 350. , 165, 3693, 11.5, 70, 1, b'\"buick skylark 320\"'),\n",
              "       (18. , 8, 318. , 150, 3436, 11. , 70, 1, b'\"plymouth satellite\"'),\n",
              "       (16. , 8, 304. , 150, 3433, 12. , 70, 1, b'\"amc rebel sst\"'),\n",
              "       (17. , 8, 302. , 140, 3449, 10.5, 70, 1, b'\"ford torino\"'),\n",
              "       (15. , 8, 429. , 198, 4341, 10. , 70, 1, b'\"ford galaxie 500\"'),\n",
              "       (14. , 8, 454. , 220, 4354,  9. , 70, 1, b'\"chevrolet impala\"'),\n",
              "       (14. , 8, 440. , 215, 4312,  8.5, 70, 1, b'\"plymouth fury iii\"'),\n",
              "       (14. , 8, 455. , 225, 4425, 10. , 70, 1, b'\"pontiac catalina\"'),\n",
              "       (15. , 8, 390. , 190, 3850,  8.5, 70, 1, b'\"amc ambassador dpl\"'),\n",
              "       (15. , 8, 383. , 170, 3563, 10. , 70, 1, b'\"dodge challenger se\"'),\n",
              "       (14. , 8, 340. , 160, 3609,  8. , 70, 1, b'\"plymouth \\'cuda 340\"'),\n",
              "       (15. , 8, 400. , 150, 3761,  9.5, 70, 1, b'\"chevrolet monte carlo\"'),\n",
              "       (14. , 8, 455. , 225, 3086, 10. , 70, 1, b'\"buick estate wagon (sw)\"'),\n",
              "       (24. , 4, 113. ,  95, 2372, 15. , 70, 3, b'\"toyota corona mark ii\"'),\n",
              "       (22. , 6, 198. ,  95, 2833, 15.5, 70, 1, b'\"plymouth duster\"'),\n",
              "       (18. , 6, 199. ,  97, 2774, 15.5, 70, 1, b'\"amc hornet\"'),\n",
              "       (21. , 6, 200. ,  85, 2587, 16. , 70, 1, b'\"ford maverick\"'),\n",
              "       (27. , 4,  97. ,  88, 2130, 14.5, 70, 3, b'\"datsun pl510\"'),\n",
              "       (26. , 4,  97. ,  46, 1835, 20.5, 70, 2, b'\"volkswagen 1131 deluxe sedan\"'),\n",
              "       (25. , 4, 110. ,  87, 2672, 17.5, 70, 2, b'\"peugeot 504\"'),\n",
              "       (24. , 4, 107. ,  90, 2430, 14.5, 70, 2, b'\"audi 100 ls\"'),\n",
              "       (25. , 4, 104. ,  95, 2375, 17.5, 70, 2, b'\"saab 99e\"'),\n",
              "       (26. , 4, 121. , 113, 2234, 12.5, 70, 2, b'\"bmw 2002\"'),\n",
              "       (21. , 6, 199. ,  90, 2648, 15. , 70, 1, b'\"amc gremlin\"'),\n",
              "       (10. , 8, 360. , 215, 4615, 14. , 70, 1, b'\"ford f250\"'),\n",
              "       (10. , 8, 307. , 200, 4376, 15. , 70, 1, b'\"chevy c20\"'),\n",
              "       (11. , 8, 318. , 210, 4382, 13.5, 70, 1, b'\"dodge d200\"'),\n",
              "       ( 9. , 8, 304. , 193, 4732, 18.5, 70, 1, b'\"hi 1200d\"'),\n",
              "       (27. , 4,  97. ,  88, 2130, 14.5, 71, 3, b'\"datsun pl510\"'),\n",
              "       (28. , 4, 140. ,  90, 2264, 15.5, 71, 1, b'\"chevrolet vega 2300\"'),\n",
              "       (25. , 4, 113. ,  95, 2228, 14. , 71, 3, b'\"toyota corona\"'),\n",
              "       (19. , 6, 232. , 100, 2634, 13. , 71, 1, b'\"amc gremlin\"'),\n",
              "       (16. , 6, 225. , 105, 3439, 15.5, 71, 1, b'\"plymouth satellite custom\"'),\n",
              "       (17. , 6, 250. , 100, 3329, 15.5, 71, 1, b'\"chevrolet chevelle malibu\"'),\n",
              "       (19. , 6, 250. ,  88, 3302, 15.5, 71, 1, b'\"ford torino 500\"'),\n",
              "       (18. , 6, 232. , 100, 3288, 15.5, 71, 1, b'\"amc matador\"'),\n",
              "       (14. , 8, 350. , 165, 4209, 12. , 71, 1, b'\"chevrolet impala\"'),\n",
              "       (14. , 8, 400. , 175, 4464, 11.5, 71, 1, b'\"pontiac catalina brougham\"'),\n",
              "       (14. , 8, 351. , 153, 4154, 13.5, 71, 1, b'\"ford galaxie 500\"'),\n",
              "       (14. , 8, 318. , 150, 4096, 13. , 71, 1, b'\"plymouth fury iii\"'),\n",
              "       (12. , 8, 383. , 180, 4955, 11.5, 71, 1, b'\"dodge monaco (sw)\"'),\n",
              "       (13. , 8, 400. , 170, 4746, 12. , 71, 1, b'\"ford country squire (sw)\"'),\n",
              "       (13. , 8, 400. , 175, 5140, 12. , 71, 1, b'\"pontiac safari (sw)\"'),\n",
              "       (18. , 6, 258. , 110, 2962, 13.5, 71, 1, b'\"amc hornet sportabout (sw)\"'),\n",
              "       (22. , 4, 140. ,  72, 2408, 19. , 71, 1, b'\"chevrolet vega (sw)\"'),\n",
              "       (19. , 6, 250. , 100, 3282, 15. , 71, 1, b'\"pontiac firebird\"'),\n",
              "       (18. , 6, 250. ,  88, 3139, 14.5, 71, 1, b'\"ford mustang\"'),\n",
              "       (23. , 4, 122. ,  86, 2220, 14. , 71, 1, b'\"mercury capri 2000\"'),\n",
              "       (28. , 4, 116. ,  90, 2123, 14. , 71, 2, b'\"opel 1900\"'),\n",
              "       (30. , 4,  79. ,  70, 2074, 19.5, 71, 2, b'\"peugeot 304\"'),\n",
              "       (30. , 4,  88. ,  76, 2065, 14.5, 71, 2, b'\"fiat 124b\"'),\n",
              "       (31. , 4,  71. ,  65, 1773, 19. , 71, 3, b'\"toyota corolla 1200\"'),\n",
              "       (35. , 4,  72. ,  69, 1613, 18. , 71, 3, b'\"datsun 1200\"'),\n",
              "       (27. , 4,  97. ,  60, 1834, 19. , 71, 2, b'\"volkswagen model 111\"'),\n",
              "       (26. , 4,  91. ,  70, 1955, 20.5, 71, 1, b'\"plymouth cricket\"'),\n",
              "       (24. , 4, 113. ,  95, 2278, 15.5, 72, 3, b'\"toyota corona hardtop\"'),\n",
              "       (25. , 4,  97.5,  80, 2126, 17. , 72, 1, b'\"dodge colt hardtop\"'),\n",
              "       (23. , 4,  97. ,  54, 2254, 23.5, 72, 2, b'\"volkswagen type 3\"'),\n",
              "       (20. , 4, 140. ,  90, 2408, 19.5, 72, 1, b'\"chevrolet vega\"'),\n",
              "       (21. , 4, 122. ,  86, 2226, 16.5, 72, 1, b'\"ford pinto runabout\"'),\n",
              "       (13. , 8, 350. , 165, 4274, 12. , 72, 1, b'\"chevrolet impala\"'),\n",
              "       (14. , 8, 400. , 175, 4385, 12. , 72, 1, b'\"pontiac catalina\"'),\n",
              "       (15. , 8, 318. , 150, 4135, 13.5, 72, 1, b'\"plymouth fury iii\"'),\n",
              "       (14. , 8, 351. , 153, 4129, 13. , 72, 1, b'\"ford galaxie 500\"'),\n",
              "       (17. , 8, 304. , 150, 3672, 11.5, 72, 1, b'\"amc ambassador sst\"'),\n",
              "       (11. , 8, 429. , 208, 4633, 11. , 72, 1, b'\"mercury marquis\"'),\n",
              "       (13. , 8, 350. , 155, 4502, 13.5, 72, 1, b'\"buick lesabre custom\"'),\n",
              "       (12. , 8, 350. , 160, 4456, 13.5, 72, 1, b'\"oldsmobile delta 88 royale\"'),\n",
              "       (13. , 8, 400. , 190, 4422, 12.5, 72, 1, b'\"chrysler newport royal\"'),\n",
              "       (19. , 3,  70. ,  97, 2330, 13.5, 72, 3, b'\"mazda rx2 coupe\"'),\n",
              "       (15. , 8, 304. , 150, 3892, 12.5, 72, 1, b'\"amc matador (sw)\"'),\n",
              "       (13. , 8, 307. , 130, 4098, 14. , 72, 1, b'\"chevrolet chevelle concours (sw)\"'),\n",
              "       (13. , 8, 302. , 140, 4294, 16. , 72, 1, b'\"ford gran torino (sw)\"'),\n",
              "       (14. , 8, 318. , 150, 4077, 14. , 72, 1, b'\"plymouth satellite custom (sw)\"'),\n",
              "       (18. , 4, 121. , 112, 2933, 14.5, 72, 2, b'\"volvo 145e (sw)\"'),\n",
              "       (22. , 4, 121. ,  76, 2511, 18. , 72, 2, b'\"volkswagen 411 (sw)\"'),\n",
              "       (21. , 4, 120. ,  87, 2979, 19.5, 72, 2, b'\"peugeot 504 (sw)\"'),\n",
              "       (26. , 4,  96. ,  69, 2189, 18. , 72, 2, b'\"renault 12 (sw)\"'),\n",
              "       (22. , 4, 122. ,  86, 2395, 16. , 72, 1, b'\"ford pinto (sw)\"'),\n",
              "       (28. , 4,  97. ,  92, 2288, 17. , 72, 3, b'\"datsun 510 (sw)\"'),\n",
              "       (23. , 4, 120. ,  97, 2506, 14.5, 72, 3, b'\"toyouta corona mark ii (sw)\"'),\n",
              "       (28. , 4,  98. ,  80, 2164, 15. , 72, 1, b'\"dodge colt (sw)\"'),\n",
              "       (27. , 4,  97. ,  88, 2100, 16.5, 72, 3, b'\"toyota corolla 1600 (sw)\"'),\n",
              "       (13. , 8, 350. , 175, 4100, 13. , 73, 1, b'\"buick century 350\"'),\n",
              "       (14. , 8, 304. , 150, 3672, 11.5, 73, 1, b'\"amc matador\"'),\n",
              "       (13. , 8, 350. , 145, 3988, 13. , 73, 1, b'\"chevrolet malibu\"'),\n",
              "       (14. , 8, 302. , 137, 4042, 14.5, 73, 1, b'\"ford gran torino\"'),\n",
              "       (15. , 8, 318. , 150, 3777, 12.5, 73, 1, b'\"dodge coronet custom\"'),\n",
              "       (12. , 8, 429. , 198, 4952, 11.5, 73, 1, b'\"mercury marquis brougham\"'),\n",
              "       (13. , 8, 400. , 150, 4464, 12. , 73, 1, b'\"chevrolet caprice classic\"'),\n",
              "       (13. , 8, 351. , 158, 4363, 13. , 73, 1, b'\"ford ltd\"'),\n",
              "       (14. , 8, 318. , 150, 4237, 14.5, 73, 1, b'\"plymouth fury gran sedan\"'),\n",
              "       (13. , 8, 440. , 215, 4735, 11. , 73, 1, b'\"chrysler new yorker brougham\"'),\n",
              "       (12. , 8, 455. , 225, 4951, 11. , 73, 1, b'\"buick electra 225 custom\"'),\n",
              "       (13. , 8, 360. , 175, 3821, 11. , 73, 1, b'\"amc ambassador brougham\"'),\n",
              "       (18. , 6, 225. , 105, 3121, 16.5, 73, 1, b'\"plymouth valiant\"'),\n",
              "       (16. , 6, 250. , 100, 3278, 18. , 73, 1, b'\"chevrolet nova custom\"'),\n",
              "       (18. , 6, 232. , 100, 2945, 16. , 73, 1, b'\"amc hornet\"'),\n",
              "       (18. , 6, 250. ,  88, 3021, 16.5, 73, 1, b'\"ford maverick\"'),\n",
              "       (23. , 6, 198. ,  95, 2904, 16. , 73, 1, b'\"plymouth duster\"'),\n",
              "       (26. , 4,  97. ,  46, 1950, 21. , 73, 2, b'\"volkswagen super beetle\"'),\n",
              "       (11. , 8, 400. , 150, 4997, 14. , 73, 1, b'\"chevrolet impala\"'),\n",
              "       (12. , 8, 400. , 167, 4906, 12.5, 73, 1, b'\"ford country\"'),\n",
              "       (13. , 8, 360. , 170, 4654, 13. , 73, 1, b'\"plymouth custom suburb\"'),\n",
              "       (12. , 8, 350. , 180, 4499, 12.5, 73, 1, b'\"oldsmobile vista cruiser\"'),\n",
              "       (18. , 6, 232. , 100, 2789, 15. , 73, 1, b'\"amc gremlin\"'),\n",
              "       (20. , 4,  97. ,  88, 2279, 19. , 73, 3, b'\"toyota carina\"'),\n",
              "       (21. , 4, 140. ,  72, 2401, 19.5, 73, 1, b'\"chevrolet vega\"'),\n",
              "       (22. , 4, 108. ,  94, 2379, 16.5, 73, 3, b'\"datsun 610\"'),\n",
              "       (18. , 3,  70. ,  90, 2124, 13.5, 73, 3, b'\"maxda rx3\"'),\n",
              "       (19. , 4, 122. ,  85, 2310, 18.5, 73, 1, b'\"ford pinto\"'),\n",
              "       (21. , 6, 155. , 107, 2472, 14. , 73, 1, b'\"mercury capri v6\"'),\n",
              "       (26. , 4,  98. ,  90, 2265, 15.5, 73, 2, b'\"fiat 124 sport coupe\"'),\n",
              "       (15. , 8, 350. , 145, 4082, 13. , 73, 1, b'\"chevrolet monte carlo s\"'),\n",
              "       (16. , 8, 400. , 230, 4278,  9.5, 73, 1, b'\"pontiac grand prix\"'),\n",
              "       (29. , 4,  68. ,  49, 1867, 19.5, 73, 2, b'\"fiat 128\"'),\n",
              "       (24. , 4, 116. ,  75, 2158, 15.5, 73, 2, b'\"opel manta\"'),\n",
              "       (20. , 4, 114. ,  91, 2582, 14. , 73, 2, b'\"audi 100ls\"'),\n",
              "       (19. , 4, 121. , 112, 2868, 15.5, 73, 2, b'\"volvo 144ea\"'),\n",
              "       (15. , 8, 318. , 150, 3399, 11. , 73, 1, b'\"dodge dart custom\"'),\n",
              "       (24. , 4, 121. , 110, 2660, 14. , 73, 2, b'\"saab 99le\"'),\n",
              "       (20. , 6, 156. , 122, 2807, 13.5, 73, 3, b'\"toyota mark ii\"'),\n",
              "       (11. , 8, 350. , 180, 3664, 11. , 73, 1, b'\"oldsmobile omega\"'),\n",
              "       (20. , 6, 198. ,  95, 3102, 16.5, 74, 1, b'\"plymouth duster\"'),\n",
              "       (19. , 6, 232. , 100, 2901, 16. , 74, 1, b'\"amc hornet\"'),\n",
              "       (15. , 6, 250. , 100, 3336, 17. , 74, 1, b'\"chevrolet nova\"'),\n",
              "       (31. , 4,  79. ,  67, 1950, 19. , 74, 3, b'\"datsun b210\"'),\n",
              "       (26. , 4, 122. ,  80, 2451, 16.5, 74, 1, b'\"ford pinto\"'),\n",
              "       (32. , 4,  71. ,  65, 1836, 21. , 74, 3, b'\"toyota corolla 1200\"'),\n",
              "       (25. , 4, 140. ,  75, 2542, 17. , 74, 1, b'\"chevrolet vega\"'),\n",
              "       (16. , 6, 250. , 100, 3781, 17. , 74, 1, b'\"chevrolet chevelle malibu classic\"'),\n",
              "       (16. , 6, 258. , 110, 3632, 18. , 74, 1, b'\"amc matador\"'),\n",
              "       (18. , 6, 225. , 105, 3613, 16.5, 74, 1, b'\"plymouth satellite sebring\"'),\n",
              "       (16. , 8, 302. , 140, 4141, 14. , 74, 1, b'\"ford gran torino\"'),\n",
              "       (13. , 8, 350. , 150, 4699, 14.5, 74, 1, b'\"buick century luxus (sw)\"'),\n",
              "       (14. , 8, 318. , 150, 4457, 13.5, 74, 1, b'\"dodge coronet custom (sw)\"'),\n",
              "       (14. , 8, 302. , 140, 4638, 16. , 74, 1, b'\"ford gran torino (sw)\"'),\n",
              "       (14. , 8, 304. , 150, 4257, 15.5, 74, 1, b'\"amc matador (sw)\"'),\n",
              "       (29. , 4,  98. ,  83, 2219, 16.5, 74, 2, b'\"audi fox\"'),\n",
              "       (26. , 4,  79. ,  67, 1963, 15.5, 74, 2, b'\"volkswagen dasher\"'),\n",
              "       (26. , 4,  97. ,  78, 2300, 14.5, 74, 2, b'\"opel manta\"'),\n",
              "       (31. , 4,  76. ,  52, 1649, 16.5, 74, 3, b'\"toyota corona\"'),\n",
              "       (32. , 4,  83. ,  61, 2003, 19. , 74, 3, b'\"datsun 710\"'),\n",
              "       (28. , 4,  90. ,  75, 2125, 14.5, 74, 1, b'\"dodge colt\"'),\n",
              "       (24. , 4,  90. ,  75, 2108, 15.5, 74, 2, b'\"fiat 128\"'),\n",
              "       (26. , 4, 116. ,  75, 2246, 14. , 74, 2, b'\"fiat 124 tc\"'),\n",
              "       (24. , 4, 120. ,  97, 2489, 15. , 74, 3, b'\"honda civic\"'),\n",
              "       (26. , 4, 108. ,  93, 2391, 15.5, 74, 3, b'\"subaru\"'),\n",
              "       (31. , 4,  79. ,  67, 2000, 16. , 74, 2, b'\"fiat x1.9\"'),\n",
              "       (19. , 6, 225. ,  95, 3264, 16. , 75, 1, b'\"plymouth valiant custom\"'),\n",
              "       (18. , 6, 250. , 105, 3459, 16. , 75, 1, b'\"chevrolet nova\"'),\n",
              "       (15. , 6, 250. ,  72, 3432, 21. , 75, 1, b'\"mercury monarch\"'),\n",
              "       (15. , 6, 250. ,  72, 3158, 19.5, 75, 1, b'\"ford maverick\"'),\n",
              "       (16. , 8, 400. , 170, 4668, 11.5, 75, 1, b'\"pontiac catalina\"'),\n",
              "       (15. , 8, 350. , 145, 4440, 14. , 75, 1, b'\"chevrolet bel air\"'),\n",
              "       (16. , 8, 318. , 150, 4498, 14.5, 75, 1, b'\"plymouth grand fury\"'),\n",
              "       (14. , 8, 351. , 148, 4657, 13.5, 75, 1, b'\"ford ltd\"'),\n",
              "       (17. , 6, 231. , 110, 3907, 21. , 75, 1, b'\"buick century\"'),\n",
              "       (16. , 6, 250. , 105, 3897, 18.5, 75, 1, b'\"chevroelt chevelle malibu\"'),\n",
              "       (15. , 6, 258. , 110, 3730, 19. , 75, 1, b'\"amc matador\"'),\n",
              "       (18. , 6, 225. ,  95, 3785, 19. , 75, 1, b'\"plymouth fury\"'),\n",
              "       (21. , 6, 231. , 110, 3039, 15. , 75, 1, b'\"buick skyhawk\"'),\n",
              "       (20. , 8, 262. , 110, 3221, 13.5, 75, 1, b'\"chevrolet monza 2+2\"'),\n",
              "       (13. , 8, 302. , 129, 3169, 12. , 75, 1, b'\"ford mustang ii\"'),\n",
              "       (29. , 4,  97. ,  75, 2171, 16. , 75, 3, b'\"toyota corolla\"'),\n",
              "       (23. , 4, 140. ,  83, 2639, 17. , 75, 1, b'\"ford pinto\"'),\n",
              "       (20. , 6, 232. , 100, 2914, 16. , 75, 1, b'\"amc gremlin\"'),\n",
              "       (23. , 4, 140. ,  78, 2592, 18.5, 75, 1, b'\"pontiac astro\"'),\n",
              "       (24. , 4, 134. ,  96, 2702, 13.5, 75, 3, b'\"toyota corona\"'),\n",
              "       (25. , 4,  90. ,  71, 2223, 16.5, 75, 2, b'\"volkswagen dasher\"'),\n",
              "       (24. , 4, 119. ,  97, 2545, 17. , 75, 3, b'\"datsun 710\"'),\n",
              "       (18. , 6, 171. ,  97, 2984, 14.5, 75, 1, b'\"ford pinto\"'),\n",
              "       (29. , 4,  90. ,  70, 1937, 14. , 75, 2, b'\"volkswagen rabbit\"'),\n",
              "       (19. , 6, 232. ,  90, 3211, 17. , 75, 1, b'\"amc pacer\"'),\n",
              "       (23. , 4, 115. ,  95, 2694, 15. , 75, 2, b'\"audi 100ls\"'),\n",
              "       (23. , 4, 120. ,  88, 2957, 17. , 75, 2, b'\"peugeot 504\"'),\n",
              "       (22. , 4, 121. ,  98, 2945, 14.5, 75, 2, b'\"volvo 244dl\"'),\n",
              "       (25. , 4, 121. , 115, 2671, 13.5, 75, 2, b'\"saab 99le\"'),\n",
              "       (33. , 4,  91. ,  53, 1795, 17.5, 75, 3, b'\"honda civic cvcc\"'),\n",
              "       (28. , 4, 107. ,  86, 2464, 15.5, 76, 2, b'\"fiat 131\"'),\n",
              "       (25. , 4, 116. ,  81, 2220, 16.9, 76, 2, b'\"opel 1900\"'),\n",
              "       (25. , 4, 140. ,  92, 2572, 14.9, 76, 1, b'\"capri ii\"'),\n",
              "       (26. , 4,  98. ,  79, 2255, 17.7, 76, 1, b'\"dodge colt\"'),\n",
              "       (27. , 4, 101. ,  83, 2202, 15.3, 76, 2, b'\"renault 12tl\"'),\n",
              "       (17.5, 8, 305. , 140, 4215, 13. , 76, 1, b'\"chevrolet chevelle malibu classic\"'),\n",
              "       (16. , 8, 318. , 150, 4190, 13. , 76, 1, b'\"dodge coronet brougham\"'),\n",
              "       (15.5, 8, 304. , 120, 3962, 13.9, 76, 1, b'\"amc matador\"'),\n",
              "       (14.5, 8, 351. , 152, 4215, 12.8, 76, 1, b'\"ford gran torino\"'),\n",
              "       (22. , 6, 225. , 100, 3233, 15.4, 76, 1, b'\"plymouth valiant\"'),\n",
              "       (22. , 6, 250. , 105, 3353, 14.5, 76, 1, b'\"chevrolet nova\"'),\n",
              "       (24. , 6, 200. ,  81, 3012, 17.6, 76, 1, b'\"ford maverick\"'),\n",
              "       (22.5, 6, 232. ,  90, 3085, 17.6, 76, 1, b'\"amc hornet\"'),\n",
              "       (29. , 4,  85. ,  52, 2035, 22.2, 76, 1, b'\"chevrolet chevette\"'),\n",
              "       (24.5, 4,  98. ,  60, 2164, 22.1, 76, 1, b'\"chevrolet woody\"'),\n",
              "       (29. , 4,  90. ,  70, 1937, 14.2, 76, 2, b'\"vw rabbit\"'),\n",
              "       (33. , 4,  91. ,  53, 1795, 17.4, 76, 3, b'\"honda civic\"'),\n",
              "       (20. , 6, 225. , 100, 3651, 17.7, 76, 1, b'\"dodge aspen se\"'),\n",
              "       (18. , 6, 250. ,  78, 3574, 21. , 76, 1, b'\"ford granada ghia\"'),\n",
              "       (18.5, 6, 250. , 110, 3645, 16.2, 76, 1, b'\"pontiac ventura sj\"'),\n",
              "       (17.5, 6, 258. ,  95, 3193, 17.8, 76, 1, b'\"amc pacer d/l\"'),\n",
              "       (29.5, 4,  97. ,  71, 1825, 12.2, 76, 2, b'\"volkswagen rabbit\"'),\n",
              "       (32. , 4,  85. ,  70, 1990, 17. , 76, 3, b'\"datsun b-210\"'),\n",
              "       (28. , 4,  97. ,  75, 2155, 16.4, 76, 3, b'\"toyota corolla\"'),\n",
              "       (26.5, 4, 140. ,  72, 2565, 13.6, 76, 1, b'\"ford pinto\"'),\n",
              "       (20. , 4, 130. , 102, 3150, 15.7, 76, 2, b'\"volvo 245\"'),\n",
              "       (13. , 8, 318. , 150, 3940, 13.2, 76, 1, b'\"plymouth volare premier v8\"'),\n",
              "       (19. , 4, 120. ,  88, 3270, 21.9, 76, 2, b'\"peugeot 504\"'),\n",
              "       (19. , 6, 156. , 108, 2930, 15.5, 76, 3, b'\"toyota mark ii\"'),\n",
              "       (16.5, 6, 168. , 120, 3820, 16.7, 76, 2, b'\"mercedes-benz 280s\"'),\n",
              "       (16.5, 8, 350. , 180, 4380, 12.1, 76, 1, b'\"cadillac seville\"'),\n",
              "       (13. , 8, 350. , 145, 4055, 12. , 76, 1, b'\"chevy c10\"'),\n",
              "       (13. , 8, 302. , 130, 3870, 15. , 76, 1, b'\"ford f108\"'),\n",
              "       (13. , 8, 318. , 150, 3755, 14. , 76, 1, b'\"dodge d100\"'),\n",
              "       (31.5, 4,  98. ,  68, 2045, 18.5, 77, 3, b'\"honda accord cvcc\"'),\n",
              "       (30. , 4, 111. ,  80, 2155, 14.8, 77, 1, b'\"buick opel isuzu deluxe\"'),\n",
              "       (36. , 4,  79. ,  58, 1825, 18.6, 77, 2, b'\"renault 5 gtl\"'),\n",
              "       (25.5, 4, 122. ,  96, 2300, 15.5, 77, 1, b'\"plymouth arrow gs\"'),\n",
              "       (33.5, 4,  85. ,  70, 1945, 16.8, 77, 3, b'\"datsun f-10 hatchback\"'),\n",
              "       (17.5, 8, 305. , 145, 3880, 12.5, 77, 1, b'\"chevrolet caprice classic\"'),\n",
              "       (17. , 8, 260. , 110, 4060, 19. , 77, 1, b'\"oldsmobile cutlass supreme\"'),\n",
              "       (15.5, 8, 318. , 145, 4140, 13.7, 77, 1, b'\"dodge monaco brougham\"'),\n",
              "       (15. , 8, 302. , 130, 4295, 14.9, 77, 1, b'\"mercury cougar brougham\"'),\n",
              "       (17.5, 6, 250. , 110, 3520, 16.4, 77, 1, b'\"chevrolet concours\"'),\n",
              "       (20.5, 6, 231. , 105, 3425, 16.9, 77, 1, b'\"buick skylark\"'),\n",
              "       (19. , 6, 225. , 100, 3630, 17.7, 77, 1, b'\"plymouth volare custom\"'),\n",
              "       (18.5, 6, 250. ,  98, 3525, 19. , 77, 1, b'\"ford granada\"'),\n",
              "       (16. , 8, 400. , 180, 4220, 11.1, 77, 1, b'\"pontiac grand prix lj\"'),\n",
              "       (15.5, 8, 350. , 170, 4165, 11.4, 77, 1, b'\"chevrolet monte carlo landau\"'),\n",
              "       (15.5, 8, 400. , 190, 4325, 12.2, 77, 1, b'\"chrysler cordoba\"'),\n",
              "       (16. , 8, 351. , 149, 4335, 14.5, 77, 1, b'\"ford thunderbird\"'),\n",
              "       (29. , 4,  97. ,  78, 1940, 14.5, 77, 2, b'\"volkswagen rabbit custom\"'),\n",
              "       (24.5, 4, 151. ,  88, 2740, 16. , 77, 1, b'\"pontiac sunbird coupe\"'),\n",
              "       (26. , 4,  97. ,  75, 2265, 18.2, 77, 3, b'\"toyota corolla liftback\"'),\n",
              "       (25.5, 4, 140. ,  89, 2755, 15.8, 77, 1, b'\"ford mustang ii 2+2\"'),\n",
              "       (30.5, 4,  98. ,  63, 2051, 17. , 77, 1, b'\"chevrolet chevette\"'),\n",
              "       (33.5, 4,  98. ,  83, 2075, 15.9, 77, 1, b'\"dodge colt m/m\"'),\n",
              "       (30. , 4,  97. ,  67, 1985, 16.4, 77, 3, b'\"subaru dl\"'),\n",
              "       (30.5, 4,  97. ,  78, 2190, 14.1, 77, 2, b'\"volkswagen dasher\"'),\n",
              "       (22. , 6, 146. ,  97, 2815, 14.5, 77, 3, b'\"datsun 810\"'),\n",
              "       (21.5, 4, 121. , 110, 2600, 12.8, 77, 2, b'\"bmw 320i\"'),\n",
              "       (21.5, 3,  80. , 110, 2720, 13.5, 77, 3, b'\"mazda rx-4\"'),\n",
              "       (43.1, 4,  90. ,  48, 1985, 21.5, 78, 2, b'\"volkswagen rabbit custom diesel\"'),\n",
              "       (36.1, 4,  98. ,  66, 1800, 14.4, 78, 1, b'\"ford fiesta\"'),\n",
              "       (32.8, 4,  78. ,  52, 1985, 19.4, 78, 3, b'\"mazda glc deluxe\"'),\n",
              "       (39.4, 4,  85. ,  70, 2070, 18.6, 78, 3, b'\"datsun b210 gx\"'),\n",
              "       (36.1, 4,  91. ,  60, 1800, 16.4, 78, 3, b'\"honda civic cvcc\"'),\n",
              "       (19.9, 8, 260. , 110, 3365, 15.5, 78, 1, b'\"oldsmobile cutlass salon brougham\"'),\n",
              "       (19.4, 8, 318. , 140, 3735, 13.2, 78, 1, b'\"dodge diplomat\"'),\n",
              "       (20.2, 8, 302. , 139, 3570, 12.8, 78, 1, b'\"mercury monarch ghia\"'),\n",
              "       (19.2, 6, 231. , 105, 3535, 19.2, 78, 1, b'\"pontiac phoenix lj\"'),\n",
              "       (20.5, 6, 200. ,  95, 3155, 18.2, 78, 1, b'\"chevrolet malibu\"'),\n",
              "       (20.2, 6, 200. ,  85, 2965, 15.8, 78, 1, b'\"ford fairmont (auto)\"'),\n",
              "       (25.1, 4, 140. ,  88, 2720, 15.4, 78, 1, b'\"ford fairmont (man)\"'),\n",
              "       (20.5, 6, 225. , 100, 3430, 17.2, 78, 1, b'\"plymouth volare\"'),\n",
              "       (19.4, 6, 232. ,  90, 3210, 17.2, 78, 1, b'\"amc concord\"'),\n",
              "       (20.6, 6, 231. , 105, 3380, 15.8, 78, 1, b'\"buick century special\"'),\n",
              "       (20.8, 6, 200. ,  85, 3070, 16.7, 78, 1, b'\"mercury zephyr\"'),\n",
              "       (18.6, 6, 225. , 110, 3620, 18.7, 78, 1, b'\"dodge aspen\"'),\n",
              "       (18.1, 6, 258. , 120, 3410, 15.1, 78, 1, b'\"amc concord d/l\"'),\n",
              "       (19.2, 8, 305. , 145, 3425, 13.2, 78, 1, b'\"chevrolet monte carlo landau\"'),\n",
              "       (17.7, 6, 231. , 165, 3445, 13.4, 78, 1, b'\"buick regal sport coupe (turbo)\"'),\n",
              "       (18.1, 8, 302. , 139, 3205, 11.2, 78, 1, b'\"ford futura\"'),\n",
              "       (17.5, 8, 318. , 140, 4080, 13.7, 78, 1, b'\"dodge magnum xe\"'),\n",
              "       (30. , 4,  98. ,  68, 2155, 16.5, 78, 1, b'\"chevrolet chevette\"'),\n",
              "       (27.5, 4, 134. ,  95, 2560, 14.2, 78, 3, b'\"toyota corona\"'),\n",
              "       (27.2, 4, 119. ,  97, 2300, 14.7, 78, 3, b'\"datsun 510\"'),\n",
              "       (30.9, 4, 105. ,  75, 2230, 14.5, 78, 1, b'\"dodge omni\"'),\n",
              "       (21.1, 4, 134. ,  95, 2515, 14.8, 78, 3, b'\"toyota celica gt liftback\"'),\n",
              "       (23.2, 4, 156. , 105, 2745, 16.7, 78, 1, b'\"plymouth sapporo\"'),\n",
              "       (23.8, 4, 151. ,  85, 2855, 17.6, 78, 1, b'\"oldsmobile starfire sx\"'),\n",
              "       (23.9, 4, 119. ,  97, 2405, 14.9, 78, 3, b'\"datsun 200-sx\"'),\n",
              "       (20.3, 5, 131. , 103, 2830, 15.9, 78, 2, b'\"audi 5000\"'),\n",
              "       (17. , 6, 163. , 125, 3140, 13.6, 78, 2, b'\"volvo 264gl\"'),\n",
              "       (21.6, 4, 121. , 115, 2795, 15.7, 78, 2, b'\"saab 99gle\"'),\n",
              "       (16.2, 6, 163. , 133, 3410, 15.8, 78, 2, b'\"peugeot 604sl\"'),\n",
              "       (31.5, 4,  89. ,  71, 1990, 14.9, 78, 2, b'\"volkswagen scirocco\"'),\n",
              "       (29.5, 4,  98. ,  68, 2135, 16.6, 78, 3, b'\"honda accord lx\"'),\n",
              "       (21.5, 6, 231. , 115, 3245, 15.4, 79, 1, b'\"pontiac lemans v6\"'),\n",
              "       (19.8, 6, 200. ,  85, 2990, 18.2, 79, 1, b'\"mercury zephyr 6\"'),\n",
              "       (22.3, 4, 140. ,  88, 2890, 17.3, 79, 1, b'\"ford fairmont 4\"'),\n",
              "       (20.2, 6, 232. ,  90, 3265, 18.2, 79, 1, b'\"amc concord dl 6\"'),\n",
              "       (20.6, 6, 225. , 110, 3360, 16.6, 79, 1, b'\"dodge aspen 6\"'),\n",
              "       (17. , 8, 305. , 130, 3840, 15.4, 79, 1, b'\"chevrolet caprice classic\"'),\n",
              "       (17.6, 8, 302. , 129, 3725, 13.4, 79, 1, b'\"ford ltd landau\"'),\n",
              "       (16.5, 8, 351. , 138, 3955, 13.2, 79, 1, b'\"mercury grand marquis\"'),\n",
              "       (18.2, 8, 318. , 135, 3830, 15.2, 79, 1, b'\"dodge st. regis\"'),\n",
              "       (16.9, 8, 350. , 155, 4360, 14.9, 79, 1, b'\"buick estate wagon (sw)\"'),\n",
              "       (15.5, 8, 351. , 142, 4054, 14.3, 79, 1, b'\"ford country squire (sw)\"'),\n",
              "       (19.2, 8, 267. , 125, 3605, 15. , 79, 1, b'\"chevrolet malibu classic (sw)\"'),\n",
              "       (18.5, 8, 360. , 150, 3940, 13. , 79, 1, b'\"chrysler lebaron town @ country (sw)\"'),\n",
              "       (31.9, 4,  89. ,  71, 1925, 14. , 79, 2, b'\"vw rabbit custom\"'),\n",
              "       (34.1, 4,  86. ,  65, 1975, 15.2, 79, 3, b'\"maxda glc deluxe\"'),\n",
              "       (35.7, 4,  98. ,  80, 1915, 14.4, 79, 1, b'\"dodge colt hatchback custom\"'),\n",
              "       (27.4, 4, 121. ,  80, 2670, 15. , 79, 1, b'\"amc spirit dl\"'),\n",
              "       (25.4, 5, 183. ,  77, 3530, 20.1, 79, 2, b'\"mercedes benz 300d\"'),\n",
              "       (23. , 8, 350. , 125, 3900, 17.4, 79, 1, b'\"cadillac eldorado\"'),\n",
              "       (27.2, 4, 141. ,  71, 3190, 24.8, 79, 2, b'\"peugeot 504\"'),\n",
              "       (23.9, 8, 260. ,  90, 3420, 22.2, 79, 1, b'\"oldsmobile cutlass salon brougham\"'),\n",
              "       (34.2, 4, 105. ,  70, 2200, 13.2, 79, 1, b'\"plymouth horizon\"'),\n",
              "       (34.5, 4, 105. ,  70, 2150, 14.9, 79, 1, b'\"plymouth horizon tc3\"'),\n",
              "       (31.8, 4,  85. ,  65, 2020, 19.2, 79, 3, b'\"datsun 210\"'),\n",
              "       (37.3, 4,  91. ,  69, 2130, 14.7, 79, 2, b'\"fiat strada custom\"'),\n",
              "       (28.4, 4, 151. ,  90, 2670, 16. , 79, 1, b'\"buick skylark limited\"'),\n",
              "       (28.8, 6, 173. , 115, 2595, 11.3, 79, 1, b'\"chevrolet citation\"'),\n",
              "       (26.8, 6, 173. , 115, 2700, 12.9, 79, 1, b'\"oldsmobile omega brougham\"'),\n",
              "       (33.5, 4, 151. ,  90, 2556, 13.2, 79, 1, b'\"pontiac phoenix\"'),\n",
              "       (41.5, 4,  98. ,  76, 2144, 14.7, 80, 2, b'\"vw rabbit\"'),\n",
              "       (38.1, 4,  89. ,  60, 1968, 18.8, 80, 3, b'\"toyota corolla tercel\"'),\n",
              "       (32.1, 4,  98. ,  70, 2120, 15.5, 80, 1, b'\"chevrolet chevette\"'),\n",
              "       (37.2, 4,  86. ,  65, 2019, 16.4, 80, 3, b'\"datsun 310\"'),\n",
              "       (28. , 4, 151. ,  90, 2678, 16.5, 80, 1, b'\"chevrolet citation\"'),\n",
              "       (26.4, 4, 140. ,  88, 2870, 18.1, 80, 1, b'\"ford fairmont\"'),\n",
              "       (24.3, 4, 151. ,  90, 3003, 20.1, 80, 1, b'\"amc concord\"'),\n",
              "       (19.1, 6, 225. ,  90, 3381, 18.7, 80, 1, b'\"dodge aspen\"'),\n",
              "       (34.3, 4,  97. ,  78, 2188, 15.8, 80, 2, b'\"audi 4000\"'),\n",
              "       (29.8, 4, 134. ,  90, 2711, 15.5, 80, 3, b'\"toyota corona liftback\"'),\n",
              "       (31.3, 4, 120. ,  75, 2542, 17.5, 80, 3, b'\"mazda 626\"'),\n",
              "       (37. , 4, 119. ,  92, 2434, 15. , 80, 3, b'\"datsun 510 hatchback\"'),\n",
              "       (32.2, 4, 108. ,  75, 2265, 15.2, 80, 3, b'\"toyota corolla\"'),\n",
              "       (46.6, 4,  86. ,  65, 2110, 17.9, 80, 3, b'\"mazda glc\"'),\n",
              "       (27.9, 4, 156. , 105, 2800, 14.4, 80, 1, b'\"dodge colt\"'),\n",
              "       (40.8, 4,  85. ,  65, 2110, 19.2, 80, 3, b'\"datsun 210\"'),\n",
              "       (44.3, 4,  90. ,  48, 2085, 21.7, 80, 2, b'\"vw rabbit c (diesel)\"'),\n",
              "       (43.4, 4,  90. ,  48, 2335, 23.7, 80, 2, b'\"vw dasher (diesel)\"'),\n",
              "       (36.4, 5, 121. ,  67, 2950, 19.9, 80, 2, b'\"audi 5000s (diesel)\"'),\n",
              "       (30. , 4, 146. ,  67, 3250, 21.8, 80, 2, b'\"mercedes-benz 240d\"'),\n",
              "       (44.6, 4,  91. ,  67, 1850, 13.8, 80, 3, b'\"honda civic 1500 gl\"'),\n",
              "       (33.8, 4,  97. ,  67, 2145, 18. , 80, 3, b'\"subaru dl\"'),\n",
              "       (29.8, 4,  89. ,  62, 1845, 15.3, 80, 2, b'\"vokswagen rabbit\"'),\n",
              "       (32.7, 6, 168. , 132, 2910, 11.4, 80, 3, b'\"datsun 280-zx\"'),\n",
              "       (23.7, 3,  70. , 100, 2420, 12.5, 80, 3, b'\"mazda rx-7 gs\"'),\n",
              "       (35. , 4, 122. ,  88, 2500, 15.1, 80, 2, b'\"triumph tr7 coupe\"'),\n",
              "       (32.4, 4, 107. ,  72, 2290, 17. , 80, 3, b'\"honda accord\"'),\n",
              "       (27.2, 4, 135. ,  84, 2490, 15.7, 81, 1, b'\"plymouth reliant\"'),\n",
              "       (26.6, 4, 151. ,  84, 2635, 16.4, 81, 1, b'\"buick skylark\"'),\n",
              "       (25.8, 4, 156. ,  92, 2620, 14.4, 81, 1, b'\"dodge aries wagon (sw)\"'),\n",
              "       (23.5, 6, 173. , 110, 2725, 12.6, 81, 1, b'\"chevrolet citation\"'),\n",
              "       (30. , 4, 135. ,  84, 2385, 12.9, 81, 1, b'\"plymouth reliant\"'),\n",
              "       (39.1, 4,  79. ,  58, 1755, 16.9, 81, 3, b'\"toyota starlet\"'),\n",
              "       (39. , 4,  86. ,  64, 1875, 16.4, 81, 1, b'\"plymouth champ\"'),\n",
              "       (35.1, 4,  81. ,  60, 1760, 16.1, 81, 3, b'\"honda civic 1300\"'),\n",
              "       (32.3, 4,  97. ,  67, 2065, 17.8, 81, 3, b'\"subaru\"'),\n",
              "       (37. , 4,  85. ,  65, 1975, 19.4, 81, 3, b'\"datsun 210 mpg\"'),\n",
              "       (37.7, 4,  89. ,  62, 2050, 17.3, 81, 3, b'\"toyota tercel\"'),\n",
              "       (34.1, 4,  91. ,  68, 1985, 16. , 81, 3, b'\"mazda glc 4\"'),\n",
              "       (34.7, 4, 105. ,  63, 2215, 14.9, 81, 1, b'\"plymouth horizon 4\"'),\n",
              "       (34.4, 4,  98. ,  65, 2045, 16.2, 81, 1, b'\"ford escort 4w\"'),\n",
              "       (29.9, 4,  98. ,  65, 2380, 20.7, 81, 1, b'\"ford escort 2h\"'),\n",
              "       (33. , 4, 105. ,  74, 2190, 14.2, 81, 2, b'\"volkswagen jetta\"'),\n",
              "       (33.7, 4, 107. ,  75, 2210, 14.4, 81, 3, b'\"honda prelude\"'),\n",
              "       (32.4, 4, 108. ,  75, 2350, 16.8, 81, 3, b'\"toyota corolla\"'),\n",
              "       (32.9, 4, 119. , 100, 2615, 14.8, 81, 3, b'\"datsun 200sx\"'),\n",
              "       (31.6, 4, 120. ,  74, 2635, 18.3, 81, 3, b'\"mazda 626\"'),\n",
              "       (28.1, 4, 141. ,  80, 3230, 20.4, 81, 2, b'\"peugeot 505s turbo diesel\"'),\n",
              "       (30.7, 6, 145. ,  76, 3160, 19.6, 81, 2, b'\"volvo diesel\"'),\n",
              "       (25.4, 6, 168. , 116, 2900, 12.6, 81, 3, b'\"toyota cressida\"'),\n",
              "       (24.2, 6, 146. , 120, 2930, 13.8, 81, 3, b'\"datsun 810 maxima\"'),\n",
              "       (22.4, 6, 231. , 110, 3415, 15.8, 81, 1, b'\"buick century\"'),\n",
              "       (26.6, 8, 350. , 105, 3725, 19. , 81, 1, b'\"oldsmobile cutlass ls\"'),\n",
              "       (20.2, 6, 200. ,  88, 3060, 17.1, 81, 1, b'\"ford granada gl\"'),\n",
              "       (17.6, 6, 225. ,  85, 3465, 16.6, 81, 1, b'\"chrysler lebaron salon\"'),\n",
              "       (28. , 4, 112. ,  88, 2605, 19.6, 82, 1, b'\"chevrolet cavalier\"'),\n",
              "       (27. , 4, 112. ,  88, 2640, 18.6, 82, 1, b'\"chevrolet cavalier wagon\"'),\n",
              "       (34. , 4, 112. ,  88, 2395, 18. , 82, 1, b'\"chevrolet cavalier 2-door\"'),\n",
              "       (31. , 4, 112. ,  85, 2575, 16.2, 82, 1, b'\"pontiac j2000 se hatchback\"'),\n",
              "       (29. , 4, 135. ,  84, 2525, 16. , 82, 1, b'\"dodge aries se\"'),\n",
              "       (27. , 4, 151. ,  90, 2735, 18. , 82, 1, b'\"pontiac phoenix\"'),\n",
              "       (24. , 4, 140. ,  92, 2865, 16.4, 82, 1, b'\"ford fairmont futura\"'),\n",
              "       (36. , 4, 105. ,  74, 1980, 15.3, 82, 2, b'\"volkswagen rabbit l\"'),\n",
              "       (37. , 4,  91. ,  68, 2025, 18.2, 82, 3, b'\"mazda glc custom l\"'),\n",
              "       (31. , 4,  91. ,  68, 1970, 17.6, 82, 3, b'\"mazda glc custom\"'),\n",
              "       (38. , 4, 105. ,  63, 2125, 14.7, 82, 1, b'\"plymouth horizon miser\"'),\n",
              "       (36. , 4,  98. ,  70, 2125, 17.3, 82, 1, b'\"mercury lynx l\"'),\n",
              "       (36. , 4, 120. ,  88, 2160, 14.5, 82, 3, b'\"nissan stanza xe\"'),\n",
              "       (36. , 4, 107. ,  75, 2205, 14.5, 82, 3, b'\"honda accord\"'),\n",
              "       (34. , 4, 108. ,  70, 2245, 16.9, 82, 3, b'\"toyota corolla\"'),\n",
              "       (38. , 4,  91. ,  67, 1965, 15. , 82, 3, b'\"honda civic\"'),\n",
              "       (32. , 4,  91. ,  67, 1965, 15.7, 82, 3, b'\"honda civic (auto)\"'),\n",
              "       (38. , 4,  91. ,  67, 1995, 16.2, 82, 3, b'\"datsun 310 gx\"'),\n",
              "       (25. , 6, 181. , 110, 2945, 16.4, 82, 1, b'\"buick century limited\"'),\n",
              "       (38. , 6, 262. ,  85, 3015, 17. , 82, 1, b'\"oldsmobile cutlass ciera (diesel)\"'),\n",
              "       (26. , 4, 156. ,  92, 2585, 14.5, 82, 1, b'\"chrysler lebaron medallion\"'),\n",
              "       (22. , 6, 232. , 112, 2835, 14.7, 82, 1, b'\"ford granada l\"'),\n",
              "       (32. , 4, 144. ,  96, 2665, 13.9, 82, 3, b'\"toyota celica gt\"'),\n",
              "       (36. , 4, 135. ,  84, 2370, 13. , 82, 1, b'\"dodge charger 2.2\"'),\n",
              "       (27. , 4, 151. ,  90, 2950, 17.3, 82, 1, b'\"chevrolet camaro\"'),\n",
              "       (27. , 4, 140. ,  86, 2790, 15.6, 82, 1, b'\"ford mustang gl\"'),\n",
              "       (44. , 4,  97. ,  52, 2130, 24.6, 82, 2, b'\"vw pickup\"'),\n",
              "       (32. , 4, 135. ,  84, 2295, 11.6, 82, 1, b'\"dodge rampage\"'),\n",
              "       (28. , 4, 120. ,  79, 2625, 18.6, 82, 1, b'\"ford ranger\"'),\n",
              "       (31. , 4, 119. ,  82, 2720, 19.4, 82, 1, b'\"chevy s-10\"')],\n",
              "      dtype=[('f0', '<f8'), ('f1', '<i8'), ('f2', '<f8'), ('f3', '<i8'), ('f4', '<i8'), ('f5', '<f8'), ('f6', '<i8'), ('f7', '<i8'), ('f8', 'S38')])"
            ]
          },
          "metadata": {},
          "execution_count": 138
        }
      ]
    },
    {
      "cell_type": "markdown",
      "source": [
        "## Concat with Row and Col wise"
      ],
      "metadata": {
        "id": "JFg7zVIqQM5D"
      }
    },
    {
      "cell_type": "code",
      "source": [
        "arr1 = np.zeros([4,4])\n",
        "arr2 = np.ones([4,4])"
      ],
      "metadata": {
        "id": "CbMs0xPxPeif"
      },
      "execution_count": 139,
      "outputs": []
    },
    {
      "cell_type": "code",
      "source": [
        "arr1"
      ],
      "metadata": {
        "colab": {
          "base_uri": "https://localhost:8080/"
        },
        "id": "gOUfwoVHPegJ",
        "outputId": "fc7974bc-24ce-4cea-8468-68831eefdd8a"
      },
      "execution_count": 140,
      "outputs": [
        {
          "output_type": "execute_result",
          "data": {
            "text/plain": [
              "array([[0., 0., 0., 0.],\n",
              "       [0., 0., 0., 0.],\n",
              "       [0., 0., 0., 0.],\n",
              "       [0., 0., 0., 0.]])"
            ]
          },
          "metadata": {},
          "execution_count": 140
        }
      ]
    },
    {
      "cell_type": "code",
      "source": [
        "arr2"
      ],
      "metadata": {
        "colab": {
          "base_uri": "https://localhost:8080/"
        },
        "id": "Je62pnGkPeeI",
        "outputId": "300b4d79-b40a-4e10-923f-c594742369c8"
      },
      "execution_count": 141,
      "outputs": [
        {
          "output_type": "execute_result",
          "data": {
            "text/plain": [
              "array([[1., 1., 1., 1.],\n",
              "       [1., 1., 1., 1.],\n",
              "       [1., 1., 1., 1.],\n",
              "       [1., 1., 1., 1.]])"
            ]
          },
          "metadata": {},
          "execution_count": 141
        }
      ]
    },
    {
      "cell_type": "markdown",
      "source": [
        "> Cocatenate"
      ],
      "metadata": {
        "id": "WYEPGWWpQnwm"
      }
    },
    {
      "cell_type": "code",
      "source": [
        "# Joins two or more arrays along a specified axis.\n",
        "np.concatenate([arr1, arr2], axis=0)"
      ],
      "metadata": {
        "colab": {
          "base_uri": "https://localhost:8080/"
        },
        "id": "YHNK6s1VErfu",
        "outputId": "208e9670-aa0c-4fda-cfd2-fdc31495f2fe"
      },
      "execution_count": 145,
      "outputs": [
        {
          "output_type": "execute_result",
          "data": {
            "text/plain": [
              "array([[0., 0., 0., 0.],\n",
              "       [0., 0., 0., 0.],\n",
              "       [0., 0., 0., 0.],\n",
              "       [0., 0., 0., 0.],\n",
              "       [1., 1., 1., 1.],\n",
              "       [1., 1., 1., 1.],\n",
              "       [1., 1., 1., 1.],\n",
              "       [1., 1., 1., 1.]])"
            ]
          },
          "metadata": {},
          "execution_count": 145
        }
      ]
    },
    {
      "cell_type": "markdown",
      "source": [
        "> Vstack"
      ],
      "metadata": {
        "id": "5Tb-3sM1RrcS"
      }
    },
    {
      "cell_type": "code",
      "source": [
        "# Vertically stacks two arrays on top of each other.\n",
        "np.vstack([arr1, arr2])"
      ],
      "metadata": {
        "colab": {
          "base_uri": "https://localhost:8080/"
        },
        "id": "PRLCq_2JQgLj",
        "outputId": "59f99fbe-6955-4ec1-e12a-57e3e42639c7"
      },
      "execution_count": 147,
      "outputs": [
        {
          "output_type": "execute_result",
          "data": {
            "text/plain": [
              "array([[0., 0., 0., 0.],\n",
              "       [0., 0., 0., 0.],\n",
              "       [0., 0., 0., 0.],\n",
              "       [0., 0., 0., 0.],\n",
              "       [1., 1., 1., 1.],\n",
              "       [1., 1., 1., 1.],\n",
              "       [1., 1., 1., 1.],\n",
              "       [1., 1., 1., 1.]])"
            ]
          },
          "metadata": {},
          "execution_count": 147
        }
      ]
    },
    {
      "cell_type": "markdown",
      "source": [
        "> np.r"
      ],
      "metadata": {
        "id": "6Q1Tdy7nRyVC"
      }
    },
    {
      "cell_type": "code",
      "source": [
        "# Provides a shortcut (index trick) to concatenate two arrays vertically.\n",
        "np.r_[arr1, arr2]"
      ],
      "metadata": {
        "colab": {
          "base_uri": "https://localhost:8080/"
        },
        "id": "0_xuUbQ4QgJf",
        "outputId": "a7fc6779-953b-4e28-eebd-60c7c113235a"
      },
      "execution_count": 148,
      "outputs": [
        {
          "output_type": "execute_result",
          "data": {
            "text/plain": [
              "array([[0., 0., 0., 0.],\n",
              "       [0., 0., 0., 0.],\n",
              "       [0., 0., 0., 0.],\n",
              "       [0., 0., 0., 0.],\n",
              "       [1., 1., 1., 1.],\n",
              "       [1., 1., 1., 1.],\n",
              "       [1., 1., 1., 1.],\n",
              "       [1., 1., 1., 1.]])"
            ]
          },
          "metadata": {},
          "execution_count": 148
        }
      ]
    },
    {
      "cell_type": "code",
      "source": [
        "np.concatenate([arr1, arr2], axis=1)"
      ],
      "metadata": {
        "colab": {
          "base_uri": "https://localhost:8080/"
        },
        "id": "Nbw8Y4g2QgHZ",
        "outputId": "3d421e07-6c28-4ef8-9274-714afda74db7"
      },
      "execution_count": 149,
      "outputs": [
        {
          "output_type": "execute_result",
          "data": {
            "text/plain": [
              "array([[0., 0., 0., 0., 1., 1., 1., 1.],\n",
              "       [0., 0., 0., 0., 1., 1., 1., 1.],\n",
              "       [0., 0., 0., 0., 1., 1., 1., 1.],\n",
              "       [0., 0., 0., 0., 1., 1., 1., 1.]])"
            ]
          },
          "metadata": {},
          "execution_count": 149
        }
      ]
    },
    {
      "cell_type": "markdown",
      "source": [
        "> hstack"
      ],
      "metadata": {
        "id": "lqa7YXJcSAzn"
      }
    },
    {
      "cell_type": "code",
      "source": [
        "# Horizontally stacks two arrays side-by-side.\n",
        "np.hstack([arr1, arr2])"
      ],
      "metadata": {
        "colab": {
          "base_uri": "https://localhost:8080/"
        },
        "id": "W5WKiJxhQgDf",
        "outputId": "8f19dc05-169e-4d9e-a5e4-11c68f22f7cb"
      },
      "execution_count": 152,
      "outputs": [
        {
          "output_type": "execute_result",
          "data": {
            "text/plain": [
              "array([[0., 0., 0., 0., 1., 1., 1., 1.],\n",
              "       [0., 0., 0., 0., 1., 1., 1., 1.],\n",
              "       [0., 0., 0., 0., 1., 1., 1., 1.],\n",
              "       [0., 0., 0., 0., 1., 1., 1., 1.]])"
            ]
          },
          "metadata": {},
          "execution_count": 152
        }
      ]
    },
    {
      "cell_type": "markdown",
      "source": [
        "> np.c_"
      ],
      "metadata": {
        "id": "eiz7hK80SIPJ"
      }
    },
    {
      "cell_type": "code",
      "source": [
        "# Provides a shortcut (index trick) to horizontally stack arrays.\n",
        "np.c_[arr1, arr2]"
      ],
      "metadata": {
        "colab": {
          "base_uri": "https://localhost:8080/"
        },
        "id": "NdtJ_luIQgBN",
        "outputId": "35334586-f0f5-4339-e6cb-28e24bfc0dd8"
      },
      "execution_count": 153,
      "outputs": [
        {
          "output_type": "execute_result",
          "data": {
            "text/plain": [
              "array([[0., 0., 0., 0., 1., 1., 1., 1.],\n",
              "       [0., 0., 0., 0., 1., 1., 1., 1.],\n",
              "       [0., 0., 0., 0., 1., 1., 1., 1.],\n",
              "       [0., 0., 0., 0., 1., 1., 1., 1.]])"
            ]
          },
          "metadata": {},
          "execution_count": 153
        }
      ]
    },
    {
      "cell_type": "markdown",
      "source": [
        "## Sort a NumPy Array"
      ],
      "metadata": {
        "id": "LqYwl6C-Sdaj"
      }
    },
    {
      "cell_type": "code",
      "source": [
        "arr = np.random.randint(1, 10, size= [10,5])\n",
        "arr"
      ],
      "metadata": {
        "colab": {
          "base_uri": "https://localhost:8080/"
        },
        "id": "iw-3OpDlSbMS",
        "outputId": "7f4a9a1a-f371-488b-dd19-b0067cca53d3"
      },
      "execution_count": 155,
      "outputs": [
        {
          "output_type": "execute_result",
          "data": {
            "text/plain": [
              "array([[3, 1, 4, 6, 5],\n",
              "       [5, 7, 5, 5, 4],\n",
              "       [5, 5, 9, 5, 4],\n",
              "       [8, 6, 6, 1, 2],\n",
              "       [6, 4, 1, 6, 1],\n",
              "       [2, 3, 5, 3, 1],\n",
              "       [4, 3, 1, 8, 6],\n",
              "       [1, 3, 8, 3, 3],\n",
              "       [4, 4, 3, 4, 5],\n",
              "       [2, 3, 2, 5, 7]])"
            ]
          },
          "metadata": {},
          "execution_count": 155
        }
      ]
    },
    {
      "cell_type": "code",
      "source": [
        "np.sort(arr, axis=0)"
      ],
      "metadata": {
        "colab": {
          "base_uri": "https://localhost:8080/"
        },
        "id": "ufwEy_iDSbKd",
        "outputId": "a49c3b51-0024-4e15-81e2-e701c54a70e6"
      },
      "execution_count": 160,
      "outputs": [
        {
          "output_type": "execute_result",
          "data": {
            "text/plain": [
              "array([[1, 1, 1, 1, 1],\n",
              "       [2, 3, 1, 3, 1],\n",
              "       [2, 3, 2, 3, 2],\n",
              "       [3, 3, 3, 4, 3],\n",
              "       [4, 3, 4, 5, 4],\n",
              "       [4, 4, 5, 5, 4],\n",
              "       [5, 4, 5, 5, 5],\n",
              "       [5, 5, 6, 6, 5],\n",
              "       [6, 6, 8, 6, 6],\n",
              "       [8, 7, 9, 8, 7]])"
            ]
          },
          "metadata": {},
          "execution_count": 160
        }
      ]
    },
    {
      "cell_type": "code",
      "source": [
        "np.sort(arr, axis=1)"
      ],
      "metadata": {
        "colab": {
          "base_uri": "https://localhost:8080/"
        },
        "id": "Fx3_ycg3SbIH",
        "outputId": "07768d00-4ec3-46e8-82b0-f1753f5e0c44"
      },
      "execution_count": 161,
      "outputs": [
        {
          "output_type": "execute_result",
          "data": {
            "text/plain": [
              "array([[1, 3, 4, 5, 6],\n",
              "       [4, 5, 5, 5, 7],\n",
              "       [4, 5, 5, 5, 9],\n",
              "       [1, 2, 6, 6, 8],\n",
              "       [1, 1, 4, 6, 6],\n",
              "       [1, 2, 3, 3, 5],\n",
              "       [1, 3, 4, 6, 8],\n",
              "       [1, 3, 3, 3, 8],\n",
              "       [3, 4, 4, 4, 5],\n",
              "       [2, 2, 3, 5, 7]])"
            ]
          },
          "metadata": {},
          "execution_count": 161
        }
      ]
    },
    {
      "cell_type": "code",
      "source": [
        "sorted_index = arr[:, 0].argsort()\n",
        "sorted_index"
      ],
      "metadata": {
        "colab": {
          "base_uri": "https://localhost:8080/"
        },
        "id": "u7CclDAiSbD8",
        "outputId": "4dcddbd6-4301-4c72-9c71-348d789ba7b6"
      },
      "execution_count": 162,
      "outputs": [
        {
          "output_type": "execute_result",
          "data": {
            "text/plain": [
              "array([7, 5, 9, 0, 6, 8, 1, 2, 4, 3])"
            ]
          },
          "metadata": {},
          "execution_count": 162
        }
      ]
    },
    {
      "cell_type": "code",
      "source": [
        "arr[sorted_index]"
      ],
      "metadata": {
        "colab": {
          "base_uri": "https://localhost:8080/"
        },
        "id": "mHrO-3a-SbB2",
        "outputId": "aad2c648-f905-4958-c647-ad7373d569c4"
      },
      "execution_count": 163,
      "outputs": [
        {
          "output_type": "execute_result",
          "data": {
            "text/plain": [
              "array([[1, 3, 8, 3, 3],\n",
              "       [2, 3, 5, 3, 1],\n",
              "       [2, 3, 2, 5, 7],\n",
              "       [3, 1, 4, 6, 5],\n",
              "       [4, 3, 1, 8, 6],\n",
              "       [4, 4, 3, 4, 5],\n",
              "       [5, 7, 5, 5, 4],\n",
              "       [5, 5, 9, 5, 4],\n",
              "       [6, 4, 1, 6, 1],\n",
              "       [8, 6, 6, 1, 2]])"
            ]
          },
          "metadata": {},
          "execution_count": 163
        }
      ]
    },
    {
      "cell_type": "markdown",
      "source": [
        "## Working with Dates"
      ],
      "metadata": {
        "id": "wkCJkVL_Tx8t"
      }
    },
    {
      "cell_type": "code",
      "source": [
        "d = np.datetime64('2023-05-01 23:10:00')\n",
        "d"
      ],
      "metadata": {
        "colab": {
          "base_uri": "https://localhost:8080/"
        },
        "id": "auOu0yAuSa_x",
        "outputId": "5c81a04a-999d-4a0d-9636-386c8f748f20"
      },
      "execution_count": 164,
      "outputs": [
        {
          "output_type": "execute_result",
          "data": {
            "text/plain": [
              "numpy.datetime64('2023-05-01T23:10:00')"
            ]
          },
          "metadata": {},
          "execution_count": 164
        }
      ]
    },
    {
      "cell_type": "code",
      "source": [
        "oneday = np.timedelta64(1, 'D')\n",
        "oneday"
      ],
      "metadata": {
        "colab": {
          "base_uri": "https://localhost:8080/"
        },
        "id": "CyWKNenlVYYB",
        "outputId": "6530f26e-a2e3-46d0-9476-b1db8bb58e6d"
      },
      "execution_count": 173,
      "outputs": [
        {
          "output_type": "execute_result",
          "data": {
            "text/plain": [
              "numpy.timedelta64(1,'D')"
            ]
          },
          "metadata": {},
          "execution_count": 173
        }
      ]
    },
    {
      "cell_type": "code",
      "source": [
        "oneminute = np.timedelta64(1, 'm')\n",
        "oneminute"
      ],
      "metadata": {
        "colab": {
          "base_uri": "https://localhost:8080/"
        },
        "id": "rJlM9gGnVay_",
        "outputId": "2d2fc928-a09e-45a9-955d-c0f087667e86"
      },
      "execution_count": 174,
      "outputs": [
        {
          "output_type": "execute_result",
          "data": {
            "text/plain": [
              "numpy.timedelta64(1,'m')"
            ]
          },
          "metadata": {},
          "execution_count": 174
        }
      ]
    },
    {
      "cell_type": "code",
      "source": [
        "print('d + 10 :', d + 10,'\\n')\n",
        "print('d - 10 :', d - 10,'\\n')\n",
        "print('d + 10 days :', d + 10 * np.timedelta64(1, 'D'),'\\n')"
      ],
      "metadata": {
        "colab": {
          "base_uri": "https://localhost:8080/"
        },
        "id": "Q6smLhrNSa9d",
        "outputId": "ac47a7f9-8149-43c8-c820-4507dbae25d2"
      },
      "execution_count": 172,
      "outputs": [
        {
          "output_type": "stream",
          "name": "stdout",
          "text": [
            "d + 10 : 2023-05-01T23:10:10 \n",
            "\n",
            "d - 10 : 2023-05-01T23:09:50 \n",
            "\n",
            "d + 10 days : 2023-05-11T23:10:00 \n",
            "\n"
          ]
        }
      ]
    },
    {
      "cell_type": "code",
      "source": [
        "dates = np.arange(np.datetime64('2023-05-01'), np.datetime64('2023-05-10'))\n",
        "dates"
      ],
      "metadata": {
        "colab": {
          "base_uri": "https://localhost:8080/"
        },
        "id": "SW1MgKcuQf9Q",
        "outputId": "fd56d507-6c62-4ff3-f474-7ec52f5ae813"
      },
      "execution_count": 179,
      "outputs": [
        {
          "output_type": "execute_result",
          "data": {
            "text/plain": [
              "array(['2023-05-01', '2023-05-02', '2023-05-03', '2023-05-04',\n",
              "       '2023-05-05', '2023-05-06', '2023-05-07', '2023-05-08',\n",
              "       '2023-05-09'], dtype='datetime64[D]')"
            ]
          },
          "metadata": {},
          "execution_count": 179
        }
      ]
    },
    {
      "cell_type": "markdown",
      "source": [
        "## NumPy Advanced Function"
      ],
      "metadata": {
        "id": "QqfHkE0JWC1H"
      }
    },
    {
      "cell_type": "markdown",
      "source": [
        "> vectorize"
      ],
      "metadata": {
        "id": "c5Tz8EWMWKea"
      }
    },
    {
      "cell_type": "code",
      "source": [
        "def foo(x):\n",
        "  if x % 2 == 1:\n",
        "    return x**2\n",
        "  else:\n",
        "    return x/2\n",
        "\n",
        "foo(11)"
      ],
      "metadata": {
        "colab": {
          "base_uri": "https://localhost:8080/"
        },
        "id": "zwGkNFQ5Qf7M",
        "outputId": "170f9528-2961-48fb-bd20-165201aa9fd2"
      },
      "execution_count": 180,
      "outputs": [
        {
          "output_type": "execute_result",
          "data": {
            "text/plain": [
              "121"
            ]
          },
          "metadata": {},
          "execution_count": 180
        }
      ]
    },
    {
      "cell_type": "code",
      "source": [
        "foo_v = np.vectorize(foo, otypes=[float])"
      ],
      "metadata": {
        "id": "sS17b0pDQf5H"
      },
      "execution_count": 182,
      "outputs": []
    },
    {
      "cell_type": "code",
      "source": [
        "arr"
      ],
      "metadata": {
        "colab": {
          "base_uri": "https://localhost:8080/"
        },
        "id": "ZeSoHEIBT2Qb",
        "outputId": "98b35c43-c04b-4140-bcb2-b4c8a81ab7d0"
      },
      "execution_count": 183,
      "outputs": [
        {
          "output_type": "execute_result",
          "data": {
            "text/plain": [
              "array([[3, 1, 4, 6, 5],\n",
              "       [5, 7, 5, 5, 4],\n",
              "       [5, 5, 9, 5, 4],\n",
              "       [8, 6, 6, 1, 2],\n",
              "       [6, 4, 1, 6, 1],\n",
              "       [2, 3, 5, 3, 1],\n",
              "       [4, 3, 1, 8, 6],\n",
              "       [1, 3, 8, 3, 3],\n",
              "       [4, 4, 3, 4, 5],\n",
              "       [2, 3, 2, 5, 7]])"
            ]
          },
          "metadata": {},
          "execution_count": 183
        }
      ]
    },
    {
      "cell_type": "code",
      "source": [
        "foo_v(arr)"
      ],
      "metadata": {
        "colab": {
          "base_uri": "https://localhost:8080/"
        },
        "id": "MwPK1072T2O4",
        "outputId": "44f4043f-2816-46d6-a990-dcb4d486b23c"
      },
      "execution_count": 184,
      "outputs": [
        {
          "output_type": "execute_result",
          "data": {
            "text/plain": [
              "array([[ 9.,  1.,  2.,  3., 25.],\n",
              "       [25., 49., 25., 25.,  2.],\n",
              "       [25., 25., 81., 25.,  2.],\n",
              "       [ 4.,  3.,  3.,  1.,  1.],\n",
              "       [ 3.,  2.,  1.,  3.,  1.],\n",
              "       [ 1.,  9., 25.,  9.,  1.],\n",
              "       [ 2.,  9.,  1.,  4.,  3.],\n",
              "       [ 1.,  9.,  4.,  9.,  9.],\n",
              "       [ 2.,  2.,  9.,  2., 25.],\n",
              "       [ 1.,  9.,  1., 25., 49.]])"
            ]
          },
          "metadata": {},
          "execution_count": 184
        }
      ]
    },
    {
      "cell_type": "code",
      "source": [],
      "metadata": {
        "id": "V6euy41AT2Mk"
      },
      "execution_count": null,
      "outputs": []
    },
    {
      "cell_type": "code",
      "source": [],
      "metadata": {
        "id": "L7RX6JrzT2Km"
      },
      "execution_count": null,
      "outputs": []
    }
  ]
}